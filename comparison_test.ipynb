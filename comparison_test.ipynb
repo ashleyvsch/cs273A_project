{
 "cells": [
  {
   "cell_type": "code",
   "execution_count": 25,
   "metadata": {},
   "outputs": [],
   "source": [
    "import matplotlib.pyplot as plt\n",
    "import numpy as np"
   ]
  },
  {
   "cell_type": "code",
   "execution_count": 16,
   "metadata": {},
   "outputs": [],
   "source": [
    "import torch\n",
    "from torch import nn\n",
    "from torch.utils.data import DataLoader\n",
    "import torchvision\n",
    "from torchvision.transforms import ToTensor, Lambda\n",
    "from IPython.display import clear_output"
   ]
  },
  {
   "cell_type": "code",
   "execution_count": 9,
   "metadata": {},
   "outputs": [],
   "source": [
    "train_and_valid_set = torchvision.datasets.FashionMNIST(\"./data\", download=True, train=True, transform=\n",
    "                                                ToTensor())\n",
    "train_set, valid_set = torch.utils.data.dataset.random_split(train_and_valid_set, [48000, 12000])\n",
    "test_set = torchvision.datasets.FashionMNIST(\"./data\", download=True, train=False, transform=\n",
    "                                               ToTensor()) "
   ]
  },
  {
   "cell_type": "code",
   "execution_count": 10,
   "metadata": {},
   "outputs": [],
   "source": [
    "class NeuralNetwork(nn.Module):\n",
    "    '''\n",
    "    A simple neural network model for the fashionMNIST data set \n",
    "    - the input features should be a matrix of size 28x28\n",
    "    FULLY CONNECTED -- 2 HIDDEN LAYERS\n",
    "    '''\n",
    "    def __init__(self):\n",
    "        super(NeuralNetwork, self).__init__()\n",
    "        self.flatten = nn.Flatten()\n",
    "        input_features = 28*28\n",
    "        num_nodes = 256\n",
    "        num_classes = 10\n",
    "\n",
    "        self.linear_relu_stack = nn.Sequential(\n",
    "            nn.Linear(input_features, num_nodes),   # layer 1\n",
    "            nn.ReLU(),  # activation function \n",
    "            nn.Linear(num_nodes, num_nodes),        # layer 2\n",
    "            nn.ReLU(),  # activation function \n",
    "            nn.Linear(num_nodes, num_classes)       # output layer\n",
    "        )\n",
    "\n",
    "    def forward(self, x):\n",
    "        '''\n",
    "        Execute the sequential stack for a flattened matrix and \n",
    "        return the raw logits \n",
    "        '''\n",
    "        x = self.flatten(x)\n",
    "        logits = self.linear_relu_stack(x)\n",
    "        return logits"
   ]
  },
  {
   "cell_type": "code",
   "execution_count": 30,
   "metadata": {},
   "outputs": [],
   "source": [
    "def update_data(BATCH_SIZE=128):\n",
    "    train_loader = DataLoader(dataset=train_set, batch_size=BATCH_SIZE, shuffle=True)\n",
    "    valid_loader = DataLoader(dataset=valid_set, batch_size=BATCH_SIZE, shuffle=False)\n",
    "    test_loader = DataLoader(dataset=test_set,batch_size=BATCH_SIZE, shuffle=False)\n",
    "    return train_loader, valid_loader, test_loader"
   ]
  },
  {
   "cell_type": "code",
   "execution_count": 34,
   "metadata": {},
   "outputs": [],
   "source": [
    "def train_loop(dataloader: DataLoader, \n",
    "                model: NeuralNetwork, \n",
    "                loss_function: torch.nn.modules.loss, \n",
    "                optimizer: torch.optim) -> tuple[list, float]:\n",
    "                \n",
    "    ''' training loop, update optimization parameters \n",
    "        for each batch \n",
    "    '''\n",
    "\n",
    "    size = len(dataloader.dataset)\n",
    "    correct = 0\n",
    "    for batch, (image, image_label) in enumerate(dataloader):\n",
    "        prediction = model(image)\n",
    "        loss = loss_function(prediction, image_label)\n",
    "\n",
    "        optimizer.zero_grad()\n",
    "        loss.backward()\n",
    "        optimizer.step()\n",
    "\n",
    "        correct += (prediction.argmax(1) == image_label).type(torch.float).sum().item()\n",
    "    correct /= size\n",
    "    return 100 * correct\n",
    "\n",
    "def validation_loop(dataloader: DataLoader, \n",
    "                model: NeuralNetwork, \n",
    "                loss_function: torch.nn.modules.loss):\n",
    "\n",
    "    ''' validation loop, don't update optimization parameters \n",
    "        for each batch \n",
    "    '''\n",
    "\n",
    "    size = len(dataloader.dataset)\n",
    "    correct = 0\n",
    "\n",
    "    with torch.no_grad():\n",
    "        for image, image_class in dataloader:\n",
    "            pred = model(image)\n",
    "            correct += (pred.argmax(1) == image_class).type(torch.float).sum().item()\n",
    "\n",
    "    correct /= size\n",
    "    return 100 * correct"
   ]
  },
  {
   "cell_type": "code",
   "execution_count": 35,
   "metadata": {},
   "outputs": [
    {
     "name": "stdout",
     "output_type": "stream",
     "text": [
      "Currently on Epoch 20....\n",
      "Done!\n"
     ]
    }
   ],
   "source": [
    "#----------------------\n",
    "train_loader, valid_loader, test_loader = update_data(128)\n",
    "model = NeuralNetwork()\n",
    "loss_function = nn.CrossEntropyLoss()\n",
    "learning_rate = 1e-3\n",
    "optimizer = torch.optim.Adam(model.parameters(), lr=learning_rate)\n",
    "epochs = 20\n",
    "#----------------------\n",
    "train_accuracies = []; valid_accuracies = []\n",
    "for t in range(epochs):\n",
    "    clear_output(wait=True)\n",
    "    print(f\"Currently on Epoch {t+1}....\")\n",
    "    train_accuracy = train_loop(train_loader, model, loss_function, optimizer)\n",
    "    train_accuracies.append(train_accuracy)\n",
    "    valid_accuracy = validation_loop(valid_loader, model, loss_function)\n",
    "    valid_accuracies.append(valid_accuracy)\n",
    "print(\"Done!\")"
   ]
  },
  {
   "cell_type": "code",
   "execution_count": 38,
   "metadata": {},
   "outputs": [],
   "source": [
    "test_accuracy = validation_loop(test_loader, model, loss_function)"
   ]
  },
  {
   "cell_type": "code",
   "execution_count": 39,
   "metadata": {},
   "outputs": [
    {
     "data": {
      "text/plain": [
       "88.6"
      ]
     },
     "execution_count": 39,
     "metadata": {},
     "output_type": "execute_result"
    }
   ],
   "source": [
    "test_accuracy"
   ]
  },
  {
   "cell_type": "code",
   "execution_count": 36,
   "metadata": {},
   "outputs": [
    {
     "data": {
      "text/plain": [
       "Text(0, 0.5, '% Accuracy')"
      ]
     },
     "execution_count": 36,
     "metadata": {},
     "output_type": "execute_result"
    },
    {
     "data": {
      "image/png": "[encoded data removed]",
      "text/plain": [
       "<Figure size 432x288 with 1 Axes>"
      ]
     },
     "metadata": {
      "needs_background": "light"
     },
     "output_type": "display_data"
    }
   ],
   "source": [
    "plt.plot(range(len(train_accuracies)), train_accuracies, 'k-', label = 'Train')\n",
    "plt.plot(range(len(valid_accuracies)), valid_accuracies, 'b--', label = 'Validation')\n",
    "plt.legend()\n",
    "plt.xlabel('Epochs')\n",
    "plt.ylabel('% Accuracy')"
   ]
  },
  {
   "cell_type": "markdown",
   "metadata": {},
   "source": [
    "Below is the final comparison test"
   ]
  },
  {
   "cell_type": "code",
   "execution_count": 37,
   "metadata": {},
   "outputs": [
    {
     "data": {
      "text/plain": [
       "89.29166666666667"
      ]
     },
     "execution_count": 37,
     "metadata": {},
     "output_type": "execute_result"
    }
   ],
   "source": [
    "#----------------------\n",
    "train_loader, valid_loader, test_loader = update_data(128)\n",
    "model = NeuralNetwork()\n",
    "loss_function = nn.CrossEntropyLoss()\n",
    "learning_rate = 1e-3\n",
    "optimizer = torch.optim.Adam(model.parameters(), lr=learning_rate)\n",
    "epochs = 20\n",
    "#----------------------\n",
    "train_accuracies = []; valid_accuracies = []\n",
    "for t in range(epochs):\n",
    "    clear_output(wait=True)\n",
    "    print(f\"Currently on Epoch {t+1}....\")\n",
    "    train_accuracy = train_loop(train_loader, model, loss_function, optimizer)\n",
    "    train_accuracies.append(train_accuracy)\n",
    "    valid_accuracy = validation_loop(valid_loader, model, loss_function)\n",
    "    valid_accuracies.append(valid_accuracy)\n",
    "print(\"Done!\")"
   ]
  },
  {
   "cell_type": "code",
   "execution_count": null,
   "metadata": {},
   "outputs": [],
   "source": []
  }
 ],
 "metadata": {
  "interpreter": {
   "hash": "6de0b2bef0d738e7c835c3722d96b169665330d3115a8fedea54041e52acaa51"
  },
  "kernelspec": {
   "display_name": "Python 3.9.7 ('py39-pytorch')",
   "language": "python",
   "name": "python3"
  },
  "language_info": {
   "codemirror_mode": {
    "name": "ipython",
    "version": 3
   },
   "file_extension": ".py",
   "mimetype": "text/x-python",
   "name": "python",
   "nbconvert_exporter": "python",
   "pygments_lexer": "ipython3",
   "version": "3.9.7"
  },
  "orig_nbformat": 4
 },
 "nbformat": 4,
 "nbformat_minor": 2
}
