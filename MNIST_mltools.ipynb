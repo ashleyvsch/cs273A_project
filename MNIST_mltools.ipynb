{
 "cells": [
  {
   "cell_type": "code",
   "execution_count": 1,
   "id": "93908169",
   "metadata": {},
   "outputs": [],
   "source": [
    "# CS273A, Winter 2022, Final Project \n",
    "# Fashion MNIST using MLtools\n",
    "\n",
    "import numpy as np\n",
    "import tensorflow as tf\n",
    "import matplotlib.pyplot as plt\n",
    "\n",
    "# import data\n",
    "fashion_mnist = tf.keras.datasets.fashion_mnist\n",
    "(train_images, train_labels), (test_images, test_labels) = fashion_mnist.load_data()\n"
   ]
  },
  {
   "cell_type": "code",
   "execution_count": 2,
   "id": "1443864f",
   "metadata": {},
   "outputs": [
    {
     "name": "stdout",
     "output_type": "stream",
     "text": [
      "Train images, labels shapes =  (60000, 28, 28) (60000,)\n",
      "Test  images, labels shapes =  (10000, 28, 28) (10000,)\n"
     ]
    }
   ],
   "source": [
    "print(\"Train images, labels shapes = \", train_images.shape, train_labels.shape)\n",
    "print(\"Test  images, labels shapes = \", test_images.shape, test_labels.shape)"
   ]
  },
  {
   "cell_type": "code",
   "execution_count": 3,
   "id": "5e261114",
   "metadata": {},
   "outputs": [],
   "source": [
    "# Split the data\n",
    "Xtr, Ytr = train_images[0:50000,:,:], train_labels[0:50000]\n",
    "Xva, Yva = train_images[50001:60000,:,:], train_labels[50001:60000]\n",
    "\n",
    "# flatten the arrays \n",
    "Xtr = Xtr.reshape(Xtr.shape[0], Xtr.shape[1]*Xtr.shape[2])\n",
    "Xva = Xva.reshape(Xva.shape[0], Xva.shape[1]*Xva.shape[2])\n",
    "\n",
    "# Rescale values from 0-255 to 0-1\n",
    "Xtr = Xtr/255.0\n",
    "Xva = Xva/255.0"
   ]
  },
  {
   "cell_type": "code",
   "execution_count": 4,
   "id": "5830b4ee",
   "metadata": {},
   "outputs": [
    {
     "name": "stdout",
     "output_type": "stream",
     "text": [
      "Trained label name =  Sneaker\n"
     ]
    },
    {
     "data": {
      "image/png": "[encoded data removed]",
      "text/plain": [
       "<Figure size 432x288 with 2 Axes>"
      ]
     },
     "metadata": {
      "needs_background": "light"
     },
     "output_type": "display_data"
    }
   ],
   "source": [
    "# Plot image\n",
    "i = 785\n",
    "plt.figure()\n",
    "plt.imshow(train_images[i])\n",
    "plt.colorbar()\n",
    "plt.grid(False)\n",
    "plt.show\n",
    "\n",
    "class_names = ['T-shirt/top', 'Trouser', 'Pullover', 'Dress', 'Coat',\n",
    "               'Sandal', 'Shirt', 'Sneaker', 'Bag', 'Ankle boot']\n",
    "\n",
    "print(\"Trained label name = \", class_names[train_labels[i]])"
   ]
  },
  {
   "cell_type": "code",
   "execution_count": 52,
   "id": "054fefce",
   "metadata": {},
   "outputs": [
    {
     "name": "stdout",
     "output_type": "stream",
     "text": [
      "kNN classifier, training & test sizes for Fashion MNIST =  10000 1000\n",
      "Wall time: 5min 39s\n",
      "kNN, alpha, error count, Accuracy % =  5 0 156.0 84.39999999999999\n",
      "Wall time: 5min 37s\n",
      "kNN, alpha, error count, Accuracy % =  5 1 179.0 82.1\n",
      "Wall time: 6min 3s\n",
      "kNN, alpha, error count, Accuracy % =  5 2 183.0 81.69999999999999\n",
      "Wall time: 5min 41s\n",
      "kNN, alpha, error count, Accuracy % =  5 4 186.0 81.4\n",
      "Wall time: 5min 52s\n",
      "kNN, alpha, error count, Accuracy % =  10 0 150.0 85.0\n",
      "Wall time: 5min 52s\n",
      "kNN, alpha, error count, Accuracy % =  10 1 179.0 82.1\n",
      "Wall time: 5min 54s\n",
      "kNN, alpha, error count, Accuracy % =  10 2 181.0 81.89999999999999\n",
      "Wall time: 6min 24s\n",
      "kNN, alpha, error count, Accuracy % =  10 4 186.0 81.4\n",
      "Wall time: 5min 50s\n",
      "kNN, alpha, error count, Accuracy % =  20 0 170.0 83.0\n",
      "Wall time: 5min 36s\n",
      "kNN, alpha, error count, Accuracy % =  20 1 179.0 82.1\n",
      "Wall time: 5min 42s\n",
      "kNN, alpha, error count, Accuracy % =  20 2 181.0 81.89999999999999\n",
      "Wall time: 6min 21s\n",
      "kNN, alpha, error count, Accuracy % =  20 4 186.0 81.4\n",
      "Wall time: 5min 37s\n",
      "kNN, alpha, error count, Accuracy % =  50 0 189.0 81.1\n",
      "Wall time: 6min 4s\n",
      "kNN, alpha, error count, Accuracy % =  50 1 180.0 82.0\n",
      "Wall time: 5min 52s\n",
      "kNN, alpha, error count, Accuracy % =  50 2 181.0 81.89999999999999\n",
      "Wall time: 5min 51s\n",
      "kNN, alpha, error count, Accuracy % =  50 4 186.0 81.4\n",
      "Wall time: 6min 3s\n",
      "kNN, alpha, error count, Accuracy % =  100 0 211.0 78.9\n",
      "Wall time: 5min 54s\n",
      "kNN, alpha, error count, Accuracy % =  100 1 180.0 82.0\n",
      "Wall time: 5min 51s\n",
      "kNN, alpha, error count, Accuracy % =  100 2 181.0 81.89999999999999\n",
      "Wall time: 5min 55s\n",
      "kNN, alpha, error count, Accuracy % =  100 4 186.0 81.4\n"
     ]
    }
   ],
   "source": [
    "# knn classifier\n",
    "import mltools as ml\n",
    "from timeit import timeit\n",
    "\n",
    "# knn\n",
    "size = 10000\n",
    "sizeTest = 1000\n",
    "Xs, Ys = Xtr[0:size,:], Ytr[0:size]\n",
    "Xv, Yv = Xtr[size+1:size+sizeTest,:], Ytr[size+1:size+sizeTest]\n",
    "\n",
    "K = [5,10,20,50,100] #\n",
    "A = [0,1,2,4] #\n",
    "\n",
    "Ypred = np.zeros((len(K), len(A)))\n",
    "err = np.zeros((len(K), len(A)))\n",
    "errCount = np.zeros((len(K), len(A)))\n",
    "errRate = np.zeros((len(K), len(A)))\n",
    "pctCor = np.zeros((len(K), len(A)))\n",
    "\n",
    "print(\"kNN classifier, training & test sizes for Fashion MNIST = \", size, sizeTest)\n",
    "\n",
    "for i,k in enumerate(K):\n",
    "    for j,alpha in enumerate(A):\n",
    "        learner = ml.knn.knnClassify()\n",
    "        learner.train(Xs, Ys, k, alpha)\n",
    "        %time Ypred = learner.predict(Xv)         \n",
    "        \n",
    "        err = np.abs(Yv - Ypred)\n",
    "        errCount[i][j] = np.count_nonzero(err != 0)\n",
    "        errRate[i][j] = errCount[i][j]/sizeTest\n",
    "        pctCor[i][j] = (1-errRate[i][j])*100\n",
    "        \n",
    "        print(\"kNN, alpha, error count, Accuracy % = \", k, alpha, errCount[i][j], pctCor[i][j])\n"
   ]
  },
  {
   "cell_type": "code",
   "execution_count": 68,
   "id": "35e9e0ef",
   "metadata": {},
   "outputs": [
    {
     "name": "stdout",
     "output_type": "stream",
     "text": [
      "Decision tree classifier, training & test sizes for Fashion MNIST =  10000 1000\n",
      "Wall time: 19 ms\n",
      "maxDepth, minParent, error count, Accuracy % =  5 2 266.0 73.4\n",
      "Wall time: 14 ms\n",
      "maxDepth, minParent, error count, Accuracy % =  5 5 267.0 73.3\n",
      "Wall time: 13 ms\n",
      "maxDepth, minParent, error count, Accuracy % =  5 10 267.0 73.3\n",
      "Wall time: 13 ms\n",
      "maxDepth, minParent, error count, Accuracy % =  5 20 268.0 73.2\n",
      "Wall time: 25 ms\n",
      "maxDepth, minParent, error count, Accuracy % =  10 2 213.0 78.7\n",
      "Wall time: 24 ms\n",
      "maxDepth, minParent, error count, Accuracy % =  10 5 207.0 79.3\n",
      "Wall time: 26 ms\n",
      "maxDepth, minParent, error count, Accuracy % =  10 10 206.0 79.4\n",
      "Wall time: 25 ms\n",
      "maxDepth, minParent, error count, Accuracy % =  10 20 210.0 79.0\n",
      "Wall time: 38 ms\n",
      "maxDepth, minParent, error count, Accuracy % =  20 2 212.0 78.8\n",
      "Wall time: 36 ms\n",
      "maxDepth, minParent, error count, Accuracy % =  20 5 215.0 78.5\n",
      "Wall time: 42 ms\n",
      "maxDepth, minParent, error count, Accuracy % =  20 10 216.0 78.4\n",
      "Wall time: 29 ms\n",
      "maxDepth, minParent, error count, Accuracy % =  20 20 214.0 78.60000000000001\n",
      "Wall time: 36 ms\n",
      "maxDepth, minParent, error count, Accuracy % =  50 2 215.0 78.5\n",
      "Wall time: 34 ms\n",
      "maxDepth, minParent, error count, Accuracy % =  50 5 214.0 78.60000000000001\n",
      "Wall time: 35 ms\n",
      "maxDepth, minParent, error count, Accuracy % =  50 10 230.0 77.0\n",
      "Wall time: 28 ms\n",
      "maxDepth, minParent, error count, Accuracy % =  50 20 208.0 79.2\n"
     ]
    }
   ],
   "source": [
    "# dec tree\n",
    "\n",
    "size = 10000\n",
    "sizeTest = 1000\n",
    "Xs, Ys = Xtr[0:size,:], Ytr[0:size]\n",
    "Xv, Yv = Xtr[size+1:size+sizeTest,:], Ytr[size+1:size+sizeTest]\n",
    "np.random.seed\n",
    "\n",
    "Depth = [5,10,20,50] #,10,20]\n",
    "Parent = [2,5,10,20] #,5,10]\n",
    "\n",
    "errCount = np.zeros((len(Depth), len(Parent)))\n",
    "errRate = np.zeros((len(Depth), len(Parent)))\n",
    "pctCor = np.zeros((len(Depth), len(Parent)))\n",
    "\n",
    "print(\"Decision tree classifier, training & test sizes for Fashion MNIST = \", size, sizeTest)\n",
    "\n",
    "for i,maxD in enumerate(Depth):\n",
    "    for j,minP in enumerate(Parent):\n",
    "        learner = ml.dtree.treeClassify(Xs, Ys, maxDepth = maxD, minParent = minP )         \n",
    "        %time Ypred = learner.predict(Xv)         \n",
    "        \n",
    "        err = np.abs(Yv - Ypred)\n",
    "        errCount[i][j] = np.count_nonzero(err != 0)\n",
    "        errRate[i][j] = errCount[i][j]/sizeTest\n",
    "        pctCor[i][j] = (1-errRate[i][j])*100\n",
    "        \n",
    "        print(\"maxDepth, minParent, error count, Accuracy % = \", maxD, minP, errCount[i][j], pctCor[i][j])\n"
   ]
  },
  {
   "cell_type": "code",
   "execution_count": 70,
   "id": "9c86ca03",
   "metadata": {},
   "outputs": [
    {
     "name": "stdout",
     "output_type": "stream",
     "text": [
      "Neural net classifier, htangent activation, training & test sizes for Fashion MNIST =  20000 1500\n",
      "it 2 : Jsur = 2.287208807773226, J01 = 0.8984\n",
      "it 4 : Jsur = 1.9014342003163136, J01 = 0.89945\n",
      "it 8 : Jsur = 1.2916323687435047, J01 = 0.90325\n",
      "it 16 : Jsur = 1.1126572608668177, J01 = 0.8966\n",
      "it 32 : Jsur = 0.9496899228964567, J01 = 0.9013\n",
      "it 64 : Jsur = 0.9274503759639267, J01 = 0.79225\n",
      "it 128 : Jsur = 0.853450411042459, J01 = 0.73775\n",
      "it 256 : Jsur = 0.7636643217176922, J01 = 0.65265\n",
      "it 512 : Jsur = 0.6516538534501581, J01 = 0.43315\n",
      "it 1024 : Jsur = 0.5792960608733092, J01 = 0.36845\n",
      "Nodes, Layers, error count, Accuracy % =  500 10 317 78.86666666666666\n"
     ]
    }
   ],
   "source": [
    "# neural net\n",
    "size = 20000\n",
    "sizeTest = 1500\n",
    "Xs, Ys = Xtr[0:size,:], Ytr[0:size]\n",
    "Xv, Yv = Xtr[size+1:size+sizeTest,:], Ytr[size+1:size+sizeTest]\n",
    "np.random.seed\n",
    "\n",
    "activation = 'htangent'\n",
    "\n",
    "nNodes = 500 #\n",
    "nLayers = 10\n",
    "\n",
    "print(\"Neural net classifier, htangent activation, training & test sizes for Fashion MNIST = \", size, sizeTest)\n",
    "\n",
    "\n",
    "nn = ml.nnet.nnetClassify()\n",
    "nn.init_weights([Xs.shape[1], nNodes*nLayers, 10], 'random', Xs, Ys)  \n",
    "nn.train(Xs, Ys, stopTol=1e-8, initStep=.1, stepConstant=100, stopIter=1000)  \n",
    "Ypred = learner.predict(Xv)       \n",
    "err = np.abs(Yv - Ypred)\n",
    "errCount = np.count_nonzero(err != 0)\n",
    "errRate = errCount/sizeTest\n",
    "pctCor = (1-errRate)*100\n",
    "\n",
    "print(\"Nodes, Layers, error count, Accuracy % = \", nNodes, nLayers, errCount, pctCor)"
   ]
  },
  {
   "cell_type": "code",
   "execution_count": 12,
   "id": "cd6bbe02",
   "metadata": {},
   "outputs": [
    {
     "name": "stdout",
     "output_type": "stream",
     "text": [
      "kNN classifier, training & test sizes for Fashion MNIST =  10000 1000\n",
      "kNN, alpha, Training Accuracy %, Val Accuracy % =  10 0 85.22000000000001 85.0\n"
     ]
    }
   ],
   "source": [
    "# knn classifier with optimal performance values of k = 10, alpha = 0\n",
    "import mltools as ml\n",
    "from timeit import timeit\n",
    "\n",
    "# knn\n",
    "size = 10000\n",
    "sizeTest = 1000\n",
    "Xs, Ys = Xtr[0:size,:], Ytr[0:size]\n",
    "Xv, Yv = Xtr[size+1:size+sizeTest,:], Ytr[size+1:size+sizeTest]\n",
    "\n",
    "k = 10 #\n",
    "alpha = 0 #\n",
    " \n",
    "print(\"kNN classifier, training & test sizes for Fashion MNIST = \", size, sizeTest)\n",
    " \n",
    "learner = ml.knn.knnClassify()\n",
    "learner.train(Xs, Ys, k, alpha)\n",
    "Ytrain = learner.predict(Xs)\n",
    "Yval   = learner.predict(Xv)\n",
    " \n",
    "\n",
    "errTrain = np.abs(Ys - Ytrain)\n",
    "errVal   = np.abs(Yv - Yval)\n",
    "\n",
    "errCountTrain = np.count_nonzero(errTrain != 0)\n",
    "errCountVal   = np.count_nonzero(errVal != 0)\n",
    "\n",
    "errRateTrain = errCountTrain/size\n",
    "errRateVal   = errCountVal/sizeTest\n",
    "\n",
    "\n",
    "pctCorTrain = (1-errRateTrain)*100\n",
    "pctCorVal   = (1-errRateVal)*100\n",
    "\n",
    "\n",
    "print(\"kNN, alpha, Training Accuracy %, Val Accuracy % = \", k, alpha, pctCorTrain, pctCorVal)"
   ]
  }
 ],
 "metadata": {
  "kernelspec": {
   "display_name": "Python 3 (ipykernel)",
   "language": "python",
   "name": "python3"
  },
  "language_info": {
   "codemirror_mode": {
    "name": "ipython",
    "version": 3
   },
   "file_extension": ".py",
   "mimetype": "text/x-python",
   "name": "python",
   "nbconvert_exporter": "python",
   "pygments_lexer": "ipython3",
   "version": "3.9.6"
  }
 },
 "nbformat": 4,
 "nbformat_minor": 5
}
