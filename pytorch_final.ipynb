{
 "cells": [
  {
   "cell_type": "code",
   "execution_count": 5,
   "metadata": {},
   "outputs": [],
   "source": [
    "import matplotlib.pyplot as plt\n",
    "import numpy as np\n",
    "import torch\n",
    "import torch.nn as nn\n",
    "import torchvision\n",
    "import torchvision.transforms as transforms\n",
    "from torch.utils.data import DataLoader\n",
    "from IPython.display import clear_output"
   ]
  },
  {
   "cell_type": "markdown",
   "metadata": {},
   "source": [
    "#### Upload the dataset"
   ]
  },
  {
   "cell_type": "code",
   "execution_count": 6,
   "metadata": {},
   "outputs": [],
   "source": [
    "train_and_valid_set = torchvision.datasets.FashionMNIST(\"./data\", download=True, train=True, transform=\n",
    "                                                transforms.ToTensor())\n",
    "train_set, valid_set = torch.utils.data.dataset.random_split(train_and_valid_set, [48000, 12000])\n",
    "test_set = torchvision.datasets.FashionMNIST(\"./data\", download=True, train=False, transform=\n",
    "                                               transforms.ToTensor()) "
   ]
  },
  {
   "cell_type": "code",
   "execution_count": 7,
   "metadata": {},
   "outputs": [],
   "source": [
    "def update_data(BATCH_SIZE=64):\n",
    "    train_loader = DataLoader(dataset=train_set, batch_size=BATCH_SIZE, shuffle=True)\n",
    "    valid_loader = DataLoader(dataset=valid_set, batch_size=BATCH_SIZE, shuffle=False)\n",
    "    test_loader = DataLoader(dataset=test_set,batch_size=BATCH_SIZE, shuffle=False)\n",
    "    return train_loader, valid_loader, test_loader"
   ]
  },
  {
   "cell_type": "markdown",
   "metadata": {},
   "source": [
    "#### Define the Final Network"
   ]
  },
  {
   "cell_type": "code",
   "execution_count": 11,
   "metadata": {},
   "outputs": [],
   "source": [
    "class FinalNetwork(nn.Module):\n",
    "    def __init__(self):\n",
    "\n",
    "        super(FinalNetwork, self).__init__()\n",
    "        self.flatten = nn.Flatten()\n",
    "        input_features = 28*28\n",
    "        num_nodes = 256\n",
    "        num_classes = 10\n",
    "\n",
    "        self.linear_relu_stack = nn.Sequential(\n",
    "            nn.Linear(input_features, num_nodes),   # layer 1\n",
    "            nn.ReLU(),  # activation function \n",
    "            nn.Linear(num_nodes, num_nodes),        # layer 2\n",
    "            nn.ReLU(),  # activation function \n",
    "            nn.Linear(num_nodes, num_classes)       # output layer\n",
    "        )\n",
    "\n",
    "    def forward(self, x):\n",
    "        '''\n",
    "        Execute the sequential stack for a flattened matrix and \n",
    "        return the raw logits \n",
    "        '''\n",
    "        x = self.flatten(x)\n",
    "        logits = self.linear_relu_stack(x)\n",
    "        return logits"
   ]
  },
  {
   "cell_type": "markdown",
   "metadata": {},
   "source": [
    "#### Training Loop and Validation Loop"
   ]
  },
  {
   "cell_type": "code",
   "execution_count": 12,
   "metadata": {},
   "outputs": [],
   "source": [
    "def train_loop_modified(dataloader: torch.utils.data.dataloader.DataLoader, \n",
    "                model: FinalNetwork, \n",
    "                loss_function: torch.nn.modules.loss, \n",
    "                optimizer: torch.optim) -> float :\n",
    "\n",
    "    size = len(dataloader.dataset)\n",
    "    num_batches = len(dataloader)\n",
    "\n",
    "    correct = 0\n",
    "    loss_acc = 0\n",
    "    for batch, (image, image_label) in enumerate(dataloader):\n",
    "        prediction = model(image)\n",
    "        loss = loss_function(prediction, image_label)\n",
    "        loss_acc += loss.item()\n",
    "\n",
    "        optimizer.zero_grad()\n",
    "        loss.backward()\n",
    "        optimizer.step()\n",
    "\n",
    "        correct += (prediction.argmax(1) == image_label).type(torch.float).sum().item()\n",
    "    correct /= size\n",
    "    loss_acc /= num_batches\n",
    "    return 100 * correct, loss_acc\n",
    "\n",
    "def validation_loop_modified(dataloader: torch.utils.data.dataloader.DataLoader, \n",
    "                model: FinalNetwork, \n",
    "                loss_function: torch.nn.modules.loss):\n",
    "\n",
    "    size = len(dataloader.dataset)\n",
    "    num_batches = len(dataloader)\n",
    "    test_loss, correct = 0, 0\n",
    "\n",
    "    with torch.no_grad():\n",
    "        for image, image_class in dataloader:\n",
    "            pred = model(image)\n",
    "            test_loss += loss_function(pred, image_class).item()\n",
    "            correct += (pred.argmax(1) == image_class).type(torch.float).sum().item()\n",
    "\n",
    "    test_loss /= num_batches\n",
    "    correct /= size\n",
    "    return 100 * correct, test_loss"
   ]
  },
  {
   "cell_type": "markdown",
   "metadata": {},
   "source": [
    "#### Run the Test"
   ]
  },
  {
   "cell_type": "code",
   "execution_count": 13,
   "metadata": {},
   "outputs": [
    {
     "name": "stdout",
     "output_type": "stream",
     "text": [
      "Currently on Epoch 17....\n",
      "Training Accuracy is:\t 93.2625\n",
      "Validation Accuracy is:\t 90.15833333333333\n",
      "Test Accuracy is:\t 89.07000000000001\n"
     ]
    }
   ],
   "source": [
    "#----\n",
    "# These parameters were chosen through model exploration\n",
    "model = FinalNetwork()\n",
    "loss_function = nn.CrossEntropyLoss()\n",
    "optimizer = torch.optim.Adam(model.parameters(), lr=0.0007)\n",
    "epochs=17\n",
    "batch_size=64\n",
    "#----\n",
    "\n",
    "train_loader, valid_loader, test_loader = update_data(batch_size)\n",
    "\n",
    "for t in range(epochs):\n",
    "    clear_output(wait=True)\n",
    "    print(f\"Currently on Epoch {t+1}....\")\n",
    "    train_accuracy, loss = train_loop_modified(train_loader, model, loss_function, optimizer)\n",
    "    valid_accuracy,_ = validation_loop_modified(valid_loader, model, loss_function)\n",
    "\n",
    "test_accuracy,_ = validation_loop_modified(test_loader, model, loss_function)\n",
    "\n",
    "print(f\"Training Accuracy is:\\t {train_accuracy}\")\n",
    "print(f\"Validation Accuracy is:\\t {valid_accuracy}\")\n",
    "print(f\"Test Accuracy is:\\t {test_accuracy}\")"
   ]
  },
  {
   "cell_type": "code",
   "execution_count": null,
   "metadata": {},
   "outputs": [],
   "source": []
  }
 ],
 "metadata": {
  "interpreter": {
   "hash": "6de0b2bef0d738e7c835c3722d96b169665330d3115a8fedea54041e52acaa51"
  },
  "kernelspec": {
   "display_name": "Python 3.9.7 ('py39-pytorch')",
   "language": "python",
   "name": "python3"
  },
  "language_info": {
   "codemirror_mode": {
    "name": "ipython",
    "version": 3
   },
   "file_extension": ".py",
   "mimetype": "text/x-python",
   "name": "python",
   "nbconvert_exporter": "python",
   "pygments_lexer": "ipython3",
   "version": "3.9.7"
  },
  "orig_nbformat": 4
 },
 "nbformat": 4,
 "nbformat_minor": 2
}
