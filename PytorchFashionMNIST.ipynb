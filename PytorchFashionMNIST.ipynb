{
 "cells": [
  {
   "cell_type": "markdown",
   "metadata": {},
   "source": [
    "### Fashion-MNIST\n",
    "\n",
    "This project takes an in-depth look into machine learning techniques and how to use pytorch -- for beginners. The data set of choice is the well-known Fashion-MNIST data set, which is composed of many images of fashion items (shirts, shoes, etc.). The data is labeled, meaning for every image we know exactly what it should be (an image of a shirt is given the shirt label). We take this from the beginning, as if pytorch has never been used before and you are just getting started. "
   ]
  },
  {
   "cell_type": "markdown",
   "metadata": {},
   "source": [
    "### Machine Learning Basics\n",
    "\n",
    "We will be building a supervised learning machine learning model. Supervised learning is the machine learning task of learning a function that maps an input to an output based on example input-output pairs. We will be training the model with labeled data and testing the model by how well it predicts the correct label."
   ]
  },
  {
   "cell_type": "markdown",
   "metadata": {},
   "source": [
    "#### Set up Python Virtual Environment"
   ]
  },
  {
   "cell_type": "markdown",
   "metadata": {},
   "source": [
    "Some things that you need to install in your python environment if you do not have them already:\n",
    "\n",
    "```\n",
    "pytorch\n",
    "numpy\n",
    "matplotlib\n",
    "```\n",
    "\n",
    "I am running this on python 3.9. Using anaconda, I created a virtual environment (named py39-pytorch, you can name it whatever you'd like) and I installed all dependencies as such:\n",
    "\n",
    "```\n",
    "conda create -n py39-pytorch python=3.6\n",
    "conda activate py39-pytorch\n",
    "conda install pytorch torchvision -c pytorch \n",
    "conda install numpy\n",
    "conda install matplotlib\n",
    "```"
   ]
  },
  {
   "cell_type": "markdown",
   "metadata": {},
   "source": [
    "Now that dependencies are likely installed, lets import all the dependencies"
   ]
  },
  {
   "cell_type": "code",
   "execution_count": 1,
   "metadata": {},
   "outputs": [],
   "source": [
    "# standard useful libraries\n",
    "import matplotlib.pyplot as plt\n",
    "import numpy as np"
   ]
  },
  {
   "cell_type": "code",
   "execution_count": 2,
   "metadata": {},
   "outputs": [],
   "source": [
    "import torch\n",
    "import torch.nn as nn\n",
    "import torch.nn.functional as F\n",
    "import torch.optim as optim"
   ]
  },
  {
   "cell_type": "code",
   "execution_count": 3,
   "metadata": {},
   "outputs": [],
   "source": [
    "import torchvision\n",
    "import torchvision.transforms as transforms\n",
    "from torch.utils.data import DataLoader"
   ]
  },
  {
   "cell_type": "code",
   "execution_count": 4,
   "metadata": {},
   "outputs": [],
   "source": [
    "import time\n",
    "from IPython.display import clear_output"
   ]
  },
  {
   "cell_type": "code",
   "execution_count": 5,
   "metadata": {},
   "outputs": [
    {
     "data": {
      "text/plain": [
       "<torch.autograd.grad_mode.set_grad_enabled at 0x7fce924779a0>"
      ]
     },
     "execution_count": 5,
     "metadata": {},
     "output_type": "execute_result"
    }
   ],
   "source": [
    "torch.set_printoptions(linewidth=120)\n",
    "torch.set_grad_enabled(True)     # On by default, leave it here for clarity"
   ]
  },
  {
   "cell_type": "markdown",
   "metadata": {},
   "source": [
    "### Getting Aquatinted with the Data"
   ]
  },
  {
   "cell_type": "markdown",
   "metadata": {},
   "source": [
    "Download the dataset from torchvision, which is a library that has the FashionMNIST dataset, among many other popular data sets. Provided is a training set and a testing set that we can grab. We specify the location to store the data, which is a directory named 'data' that will be located within the current working directory.\n",
    "\n",
    "We are going to ultimately have a training set, a validation set, and a testing set. The training set is the set of data we will use to train our model and the validation set will be used to validate the model. As we train/validate, there is potential to over-fit the model to the data set using to train/validate. That is where the testing set comes in handy. Of course, in machine learning, this is always a battle. Depending on the size of your dataset, it is possible to not have the luxury of having so many samples to train/validate/test. In any case, the training/validation sets will be made up of the 'train' set from torch vision and the test set will be made up of the 'test' set from torch vision, and we will split the 'train' set into our training/validation sets. "
   ]
  },
  {
   "cell_type": "code",
   "execution_count": 6,
   "metadata": {},
   "outputs": [],
   "source": [
    "train_and_valid_set = torchvision.datasets.FashionMNIST(\"./data\", download=True, train=True, transform=\n",
    "                                                transforms.ToTensor())"
   ]
  },
  {
   "cell_type": "code",
   "execution_count": 7,
   "metadata": {},
   "outputs": [
    {
     "name": "stdout",
     "output_type": "stream",
     "text": [
      "The training set has 60000 datapoints\n"
     ]
    }
   ],
   "source": [
    "print(f'The training set has {len(train_and_valid_set)} datapoints')"
   ]
  },
  {
   "cell_type": "markdown",
   "metadata": {},
   "source": [
    "The first step is to split the data into a train and validation set. The test set will be used to test the accuracy of the final results using the validation to assess accuracy originally. Pytortch is able to slpit data using the function: \n",
    "\n",
    "`torch.utils.data.dataset.random_split(dataset, [num_train, num_valid]).`\n",
    "\n",
    "We will use an 80/20 split here. 80% of the data from the `train_and_valid_set` will be used for training, and 20% will be used for validation."
   ]
  },
  {
   "cell_type": "code",
   "execution_count": 8,
   "metadata": {},
   "outputs": [
    {
     "name": "stdout",
     "output_type": "stream",
     "text": [
      "Number of data points in training set:\t 60000\n",
      "Number in split training set:\t\t 48000\n",
      "Number in validation set:\t\t 12000\n"
     ]
    }
   ],
   "source": [
    "print('Number of data points in training set:\\t', len(train_and_valid_set))\n",
    "print('Number in split training set:\\t\\t', int(len(train_and_valid_set)*.8))\n",
    "print('Number in validation set:\\t\\t', int(len(train_and_valid_set)*.2))"
   ]
  },
  {
   "cell_type": "code",
   "execution_count": 9,
   "metadata": {},
   "outputs": [],
   "source": [
    "train_set, valid_set = torch.utils.data.dataset.random_split(train_and_valid_set, [48000, 12000])"
   ]
  },
  {
   "cell_type": "markdown",
   "metadata": {},
   "source": [
    "The test set, as said previously, is also located within torchvision. We can download this as well, set train = False to get the test dataset."
   ]
  },
  {
   "cell_type": "code",
   "execution_count": 10,
   "metadata": {},
   "outputs": [],
   "source": [
    "test_set = torchvision.datasets.FashionMNIST(\"./data\", download=True, train=False, transform=\n",
    "                                               transforms.ToTensor()) "
   ]
  },
  {
   "cell_type": "code",
   "execution_count": 12,
   "metadata": {},
   "outputs": [
    {
     "name": "stdout",
     "output_type": "stream",
     "text": [
      "The test set has 10000 datapoints\n"
     ]
    }
   ],
   "source": [
    "print(f'The test set has {len(test_set)} datapoints')"
   ]
  },
  {
   "cell_type": "markdown",
   "metadata": {},
   "source": [
    "Each sample is an image, that is a matrix of values that represent the grey-scale image, and an integer label that defines the item of clothing the image is. For clarity, we can access the description (or clothing item) associated with each label."
   ]
  },
  {
   "cell_type": "code",
   "execution_count": 11,
   "metadata": {},
   "outputs": [],
   "source": [
    "def output_label(label: 'torch.Tensor or int') -> str:\n",
    "    '''\n",
    "    This function solely takes in an integer label, that is type\n",
    "    torch.Tensor or integer and returns the string that describes the label. \n",
    "    '''\n",
    "    # create my output mapping dictionary, where the integer label\n",
    "    # is the dictionary id and the label \n",
    "    output_mapping = {\n",
    "                 0: \"T-shirt/Top\",\n",
    "                 1: \"Trouser\",\n",
    "                 2: \"Pullover\",\n",
    "                 3: \"Dress\",\n",
    "                 4: \"Coat\", \n",
    "                 5: \"Sandal\", \n",
    "                 6: \"Shirt\",\n",
    "                 7: \"Sneaker\",\n",
    "                 8: \"Bag\",\n",
    "                 9: \"Ankle Boot\"\n",
    "                 }\n",
    "    # sometimes the label is type torch.Tensor, for which we want \n",
    "    # the integer (or item) stored in there, otherwise, the id is \n",
    "    # just the integer label given\n",
    "    input = (label.item() if type(label) == torch.Tensor else label)\n",
    "    return output_mapping[input]"
   ]
  },
  {
   "cell_type": "markdown",
   "metadata": {},
   "source": [
    "Lets take a quick look at one data point. Lets just grab a radom data point (I am choosing the third sample here, just to make sure it is always the same when reloading the kernel) from the original data set."
   ]
  },
  {
   "cell_type": "code",
   "execution_count": 14,
   "metadata": {},
   "outputs": [],
   "source": [
    "random_image, random_image_label = train_set[3]"
   ]
  },
  {
   "cell_type": "markdown",
   "metadata": {},
   "source": [
    "Lets look at the size of the image data:"
   ]
  },
  {
   "cell_type": "code",
   "execution_count": 15,
   "metadata": {},
   "outputs": [
    {
     "data": {
      "text/plain": [
       "torch.Size([1, 28, 28])"
      ]
     },
     "execution_count": 15,
     "metadata": {},
     "output_type": "execute_result"
    }
   ],
   "source": [
    "random_image.shape"
   ]
  },
  {
   "cell_type": "markdown",
   "metadata": {},
   "source": [
    "The shape attribute tells us we have 1 matrix (sometimes in image data we will have 3 matrices representing the 3 channels of an RGB image, but here we are in gray-scale, which is only one channel, hence one matrix) of size 28 x 28. This means there are 784 pixels for the image, or 784 elements making up the data matrix storing the pixel data. Lets look at what the data for an image looks like:"
   ]
  },
  {
   "cell_type": "code",
   "execution_count": 16,
   "metadata": {},
   "outputs": [
    {
     "data": {
      "text/plain": [
       "tensor([[[0.0000, 0.0000, 0.0000, 0.0000, 0.0000, 0.0000, 0.0000, 0.0000, 0.1765, 0.8078, 0.5961, 0.5961, 0.3765,\n",
       "          0.4824, 0.3216, 0.5529, 0.3294, 0.4627, 0.6118, 0.6196, 0.1098, 0.0000, 0.0000, 0.0000, 0.0000, 0.0000,\n",
       "          0.0000, 0.0000],\n",
       "         [0.0000, 0.0000, 0.0000, 0.0000, 0.0000, 0.0000, 0.0000, 0.0000, 0.3098, 0.8706, 0.7725, 0.8902, 0.6275,\n",
       "          1.0000, 0.6118, 0.5843, 0.7490, 0.8471, 0.8745, 1.0000, 0.3020, 0.0000, 0.0000, 0.0000, 0.0000, 0.0000,\n",
       "          0.0000, 0.0000],\n",
       "         [0.0000, 0.0000, 0.0000, 0.0000, 0.0000, 0.0000, 0.0000, 0.0000, 0.2824, 0.6706, 0.6353, 0.8196, 0.4706,\n",
       "          0.8549, 0.4863, 0.7490, 0.7020, 0.6667, 0.5608, 0.7020, 0.0784, 0.0000, 0.0000, 0.0000, 0.0000, 0.0000,\n",
       "          0.0000, 0.0000],\n",
       "         [0.0000, 0.0000, 0.0000, 0.0000, 0.0000, 0.0000, 0.0000, 0.0000, 0.3725, 0.8235, 0.7490, 0.8667, 0.7059,\n",
       "          0.9137, 0.7647, 0.9765, 0.7176, 0.6196, 0.5529, 0.7059, 0.2196, 0.0000, 0.0000, 0.0000, 0.0000, 0.0000,\n",
       "          0.0000, 0.0000],\n",
       "         [0.0000, 0.0000, 0.0000, 0.0000, 0.0000, 0.0000, 0.0000, 0.0000, 0.4824, 0.8549, 0.7176, 0.7333, 0.8235,\n",
       "          0.7882, 0.7725, 0.7765, 0.7451, 0.5490, 0.7961, 0.8314, 0.3412, 0.0000, 0.0000, 0.0000, 0.0000, 0.0000,\n",
       "          0.0000, 0.0000],\n",
       "         [0.0000, 0.0000, 0.0000, 0.0000, 0.0000, 0.0000, 0.0000, 0.0000, 0.3255, 0.4627, 0.5451, 0.6784, 0.7255,\n",
       "          0.6902, 0.7765, 0.9216, 0.8353, 0.8118, 0.8431, 0.7020, 0.3529, 0.0000, 0.0000, 0.0000, 0.0000, 0.0000,\n",
       "          0.0000, 0.0000],\n",
       "         [0.0000, 0.0000, 0.0000, 0.0000, 0.0000, 0.0000, 0.0000, 0.0000, 0.4784, 0.6275, 0.6667, 0.7961, 0.8196,\n",
       "          0.8431, 0.7255, 0.7529, 0.7137, 0.7451, 0.7647, 0.7176, 0.4000, 0.0000, 0.0000, 0.0000, 0.0000, 0.0000,\n",
       "          0.0000, 0.0000],\n",
       "         [0.0000, 0.0000, 0.0000, 0.0000, 0.0000, 0.0000, 0.0000, 0.0000, 0.4196, 0.5765, 0.7176, 0.7333, 0.7098,\n",
       "          0.7725, 0.7647, 0.7098, 0.7569, 0.7804, 0.6863, 0.6549, 0.5020, 0.0000, 0.0000, 0.0000, 0.0000, 0.0000,\n",
       "          0.0000, 0.0000],\n",
       "         [0.0000, 0.0000, 0.0000, 0.0000, 0.0000, 0.0000, 0.0000, 0.0000, 0.3569, 0.5529, 0.7608, 0.7765, 0.7137,\n",
       "          0.7725, 0.7490, 0.7725, 0.8000, 0.7804, 0.6471, 0.5216, 0.4314, 0.0000, 0.0000, 0.0000, 0.0000, 0.0000,\n",
       "          0.0000, 0.0000],\n",
       "         [0.0000, 0.0000, 0.0000, 0.0000, 0.0000, 0.0000, 0.0000, 0.0000, 0.4863, 0.6000, 0.7373, 0.7725, 0.7451,\n",
       "          0.7608, 0.9333, 0.8667, 0.8039, 0.7725, 0.5647, 0.4706, 0.6039, 0.0000, 0.0000, 0.0000, 0.0000, 0.0000,\n",
       "          0.0000, 0.0000],\n",
       "         [0.0000, 0.0000, 0.0000, 0.0000, 0.0000, 0.0000, 0.0000, 0.0000, 0.3961, 0.6627, 0.7216, 0.7922, 0.8039,\n",
       "          0.7412, 0.7059, 0.9294, 0.7961, 0.7843, 0.5882, 0.4667, 0.5098, 0.0000, 0.0000, 0.0000, 0.0000, 0.0000,\n",
       "          0.0000, 0.0000],\n",
       "         [0.0000, 0.0000, 0.0000, 0.0000, 0.0000, 0.0000, 0.0000, 0.0000, 0.3373, 0.7176, 0.7333, 0.7725, 0.8078,\n",
       "          0.7922, 0.1647, 0.9255, 0.8078, 0.7451, 0.6471, 0.6000, 0.5098, 0.0000, 0.0000, 0.0000, 0.0000, 0.0000,\n",
       "          0.0000, 0.0000],\n",
       "         [0.0000, 0.0000, 0.0000, 0.0000, 0.0000, 0.0000, 0.0000, 0.0000, 0.3098, 0.7765, 0.6863, 0.7294, 0.7216,\n",
       "          0.7765, 0.0980, 0.9255, 0.8118, 0.7059, 0.6157, 0.6392, 0.3765, 0.0000, 0.0000, 0.0000, 0.0000, 0.0000,\n",
       "          0.0000, 0.0000],\n",
       "         [0.0000, 0.0000, 0.0000, 0.0000, 0.0000, 0.0000, 0.0000, 0.0000, 0.2824, 0.7020, 0.4039, 0.6941, 0.7725,\n",
       "          0.7765, 0.0000, 0.8588, 0.8275, 0.7294, 0.5804, 0.7294, 0.2941, 0.0000, 0.0000, 0.0000, 0.0000, 0.0000,\n",
       "          0.0000, 0.0000],\n",
       "         [0.0000, 0.0000, 0.0000, 0.0000, 0.0000, 0.0000, 0.0000, 0.0000, 0.2118, 0.8196, 0.3098, 0.5451, 0.7686,\n",
       "          0.7647, 0.0000, 0.8588, 0.7804, 0.6196, 0.4118, 0.7294, 0.2863, 0.0000, 0.0000, 0.0000, 0.0000, 0.0000,\n",
       "          0.0000, 0.0000],\n",
       "         [0.0000, 0.0000, 0.0000, 0.0000, 0.0000, 0.0000, 0.0000, 0.0000, 0.1137, 0.8510, 0.3451, 0.5176, 0.7333,\n",
       "          0.7686, 0.0000, 0.8235, 0.8157, 0.5255, 0.3961, 0.7059, 0.1216, 0.0000, 0.0000, 0.0000, 0.0000, 0.0000,\n",
       "          0.0000, 0.0000],\n",
       "         [0.0000, 0.0000, 0.0000, 0.0000, 0.0000, 0.0000, 0.0000, 0.0000, 0.0157, 0.8000, 0.4471, 0.5137, 0.6784,\n",
       "          0.7686, 0.0000, 0.8196, 0.8314, 0.5804, 0.4627, 0.6667, 0.0275, 0.0000, 0.0000, 0.0000, 0.0000, 0.0000,\n",
       "          0.0000, 0.0000],\n",
       "         [0.0000, 0.0000, 0.0000, 0.0000, 0.0000, 0.0000, 0.0000, 0.0000, 0.0000, 0.8471, 0.4235, 0.4471, 0.6941,\n",
       "          0.7569, 0.0000, 0.7686, 0.8863, 0.5569, 0.4745, 0.8549, 0.0549, 0.0000, 0.0000, 0.0000, 0.0000, 0.0000,\n",
       "          0.0000, 0.0000],\n",
       "         [0.0000, 0.0000, 0.0000, 0.0000, 0.0000, 0.0000, 0.0000, 0.0000, 0.0000, 0.7176, 0.5412, 0.4314, 0.6275,\n",
       "          0.7137, 0.0000, 0.7882, 0.8039, 0.5608, 0.5804, 0.7490, 0.0000, 0.0000, 0.0000, 0.0000, 0.0000, 0.0000,\n",
       "          0.0000, 0.0000],\n",
       "         [0.0000, 0.0000, 0.0000, 0.0000, 0.0000, 0.0000, 0.0000, 0.0000, 0.0000, 0.6353, 0.5882, 0.3608, 0.6902,\n",
       "          0.6745, 0.0000, 0.7961, 0.7725, 0.4745, 0.6078, 0.7255, 0.0000, 0.0000, 0.0000, 0.0000, 0.0000, 0.0000,\n",
       "          0.0000, 0.0000],\n",
       "         [0.0000, 0.0000, 0.0000, 0.0000, 0.0000, 0.0000, 0.0000, 0.0000, 0.0000, 0.5804, 0.6392, 0.4235, 0.7255,\n",
       "          0.5961, 0.0000, 0.8039, 0.8235, 0.5333, 0.6510, 0.6314, 0.0000, 0.0000, 0.0000, 0.0000, 0.0000, 0.0000,\n",
       "          0.0000, 0.0000],\n",
       "         [0.0000, 0.0000, 0.0000, 0.0000, 0.0000, 0.0000, 0.0000, 0.0000, 0.0000, 0.5294, 0.7216, 0.3804, 0.7216,\n",
       "          0.5451, 0.0000, 0.7843, 0.8039, 0.5373, 0.6902, 0.5686, 0.0000, 0.0000, 0.0000, 0.0000, 0.0000, 0.0000,\n",
       "          0.0000, 0.0000],\n",
       "         [0.0000, 0.0000, 0.0000, 0.0000, 0.0000, 0.0000, 0.0000, 0.0000, 0.0000, 0.4627, 0.7294, 0.3922, 0.7804,\n",
       "          0.5804, 0.0000, 0.7882, 0.8000, 0.4784, 0.6863, 0.5255, 0.0000, 0.0000, 0.0000, 0.0000, 0.0000, 0.0000,\n",
       "          0.0000, 0.0000],\n",
       "         [0.0000, 0.0000, 0.0000, 0.0000, 0.0000, 0.0000, 0.0000, 0.0000, 0.0000, 0.3647, 0.6980, 0.5608, 0.7765,\n",
       "          0.5490, 0.0000, 0.8000, 0.8118, 0.4510, 0.7255, 0.4667, 0.0000, 0.0000, 0.0000, 0.0000, 0.0000, 0.0000,\n",
       "          0.0000, 0.0000],\n",
       "         [0.0000, 0.0000, 0.0000, 0.0000, 0.0000, 0.0000, 0.0000, 0.0000, 0.0000, 0.2980, 0.7725, 0.6549, 0.7137,\n",
       "          0.5490, 0.0000, 0.7843, 0.7608, 0.5647, 0.6824, 0.3804, 0.0000, 0.0000, 0.0000, 0.0000, 0.0000, 0.0000,\n",
       "          0.0000, 0.0000],\n",
       "         [0.0000, 0.0000, 0.0000, 0.0000, 0.0000, 0.0000, 0.0000, 0.0000, 0.0000, 0.2039, 0.8196, 0.7333, 0.7765,\n",
       "          0.5294, 0.0000, 0.6980, 0.7922, 0.6275, 0.7490, 0.3176, 0.0000, 0.0000, 0.0000, 0.0000, 0.0000, 0.0000,\n",
       "          0.0000, 0.0000],\n",
       "         [0.0000, 0.0000, 0.0000, 0.0000, 0.0000, 0.0000, 0.0000, 0.0000, 0.0000, 0.2784, 0.8196, 0.8118, 0.9294,\n",
       "          0.5647, 0.0000, 0.6980, 0.8667, 0.7765, 0.8157, 0.2549, 0.0000, 0.0000, 0.0000, 0.0000, 0.0000, 0.0000,\n",
       "          0.0000, 0.0000],\n",
       "         [0.0000, 0.0000, 0.0000, 0.0000, 0.0000, 0.0000, 0.0000, 0.0000, 0.0000, 0.0000, 0.2667, 0.4078, 0.4196,\n",
       "          0.0314, 0.0000, 0.0627, 0.4353, 0.5137, 0.3765, 0.0000, 0.0000, 0.0000, 0.0000, 0.0000, 0.0000, 0.0000,\n",
       "          0.0000, 0.0000]]])"
      ]
     },
     "execution_count": 16,
     "metadata": {},
     "output_type": "execute_result"
    }
   ],
   "source": [
    "random_image"
   ]
  },
  {
   "cell_type": "markdown",
   "metadata": {},
   "source": [
    "As expected, the image array is a matrix of values. The values are between 0 and 1, where 0 is black and 1 is white, that make up the gray scale image. Sometimes this data set is not normalized between 0 and 1, but the data loader did that for us. Lets actually show that image. We can use the `imshow()` function to do so. As said previously, there are only 784 pixels, so it is likely the image quality will be relatively poor."
   ]
  },
  {
   "cell_type": "code",
   "execution_count": 17,
   "metadata": {},
   "outputs": [
    {
     "data": {
      "text/plain": [
       "<matplotlib.image.AxesImage at 0x7f9add61b8e0>"
      ]
     },
     "execution_count": 17,
     "metadata": {},
     "output_type": "execute_result"
    },
    {
     "data": {
      "image/png": "[encoded data removed]",
      "text/plain": [
       "<Figure size 432x288 with 1 Axes>"
      ]
     },
     "metadata": {
      "needs_background": "light"
     },
     "output_type": "display_data"
    }
   ],
   "source": [
    "plt.imshow(random_image.squeeze(), cmap=\"gray\")"
   ]
  },
  {
   "cell_type": "markdown",
   "metadata": {},
   "source": [
    "Although blurry, we can clearly see the image is a trouser. Lets look at the integer label for this data point."
   ]
  },
  {
   "cell_type": "code",
   "execution_count": 18,
   "metadata": {},
   "outputs": [
    {
     "name": "stdout",
     "output_type": "stream",
     "text": [
      "The integer label is:\t\t 1\n",
      "The description label is:\t Trouser\n"
     ]
    }
   ],
   "source": [
    "print('The integer label is:\\t\\t', random_image_label)\n",
    "print('The description label is:\\t', output_label(random_image_label))"
   ]
  },
  {
   "cell_type": "markdown",
   "metadata": {},
   "source": [
    "Lets take a quick look at more of the data. Lets plot all the images in one batch, which should be a total images = batch size chosen previously. The `torchvision.utils.make_grid` function is great to show many images at once. We will also use the `torch.utils.data.DataLoader` to be able to iterate over the data. We are splitting up our data here into groups (or batches) of 50. This will come into play later when we begin training our model but for now we will just use it to show 50 random images. "
   ]
  },
  {
   "cell_type": "code",
   "execution_count": 13,
   "metadata": {},
   "outputs": [
    {
     "data": {
      "text/plain": [
       "(-0.5, 241.5, 211.5, -0.5)"
      ]
     },
     "execution_count": 13,
     "metadata": {},
     "output_type": "execute_result"
    },
    {
     "data": {
      "image/png": "[encoded data removed]",
      "text/plain": [
       "<Figure size 432x288 with 1 Axes>"
      ]
     },
     "metadata": {
      "needs_background": "light"
     },
     "output_type": "display_data"
    }
   ],
   "source": [
    "# split the data set into batches of 50 so we can iterate over \n",
    "# the images -- this will come into play again later\n",
    "sets_of_50_images = torch.utils.data.DataLoader(train_set, 50)\n",
    "random_50_images = iter(sets_of_50_images)\n",
    "\n",
    "# the images variable here will contain the matrix data for the \n",
    "# gray scale image and the labels variable will hold an array \n",
    "# of the integer labels for each image. \n",
    "images, labels = random_50_images.next()\n",
    "\n",
    "# make the grid of images, this is appending and arranging\n",
    "# all the matrix data for each individual image into one larger\n",
    "# matrix\n",
    "gird_of_images = torchvision.utils.make_grid(images)\n",
    "\n",
    "# use numpy to read in the image and show it using imshow\n",
    "npimg = gird_of_images.numpy()\n",
    "plt.imshow(np.transpose(npimg, (1, 2, 0)))\n",
    "plt.axis('off')"
   ]
  },
  {
   "cell_type": "markdown",
   "metadata": {},
   "source": [
    "We can now see all the images in one of the batches. We see 50 different fashion images. This would mean that the variable holding all the labels for the image should be length 50, lets confirm this:"
   ]
  },
  {
   "cell_type": "code",
   "execution_count": 14,
   "metadata": {},
   "outputs": [
    {
     "name": "stdout",
     "output_type": "stream",
     "text": [
      "Number of labels for this batch: torch.Size([50])\n"
     ]
    }
   ],
   "source": [
    "print('Number of labels for this batch:', labels.shape)"
   ]
  },
  {
   "cell_type": "code",
   "execution_count": 19,
   "metadata": {},
   "outputs": [
    {
     "data": {
      "image/png": "[encoded data removed]",
      "text/plain": [
       "<Figure size 936x360 with 10 Axes>"
      ]
     },
     "metadata": {
      "needs_background": "light"
     },
     "output_type": "display_data"
    }
   ],
   "source": [
    "set_with_labels = []\n",
    "has_labels = []\n",
    "for i, label in enumerate(labels):\n",
    "    if label not in has_labels:\n",
    "        has_labels.append(label)\n",
    "        set_with_labels.append((i, label))\n",
    "set_with_labels.sort(key = lambda x: x[1]) \n",
    "\n",
    "fig, ax = plt.subplots(nrows = 1, ncols = 10, figsize = (13, 5), constrained_layout=True)\n",
    "\n",
    "for i, set in enumerate(set_with_labels):\n",
    "    img = images[set[0]]\n",
    "    ax[i].imshow(img.squeeze(), cmap=\"gray\")\n",
    "    ax[i].set_title(output_label(i), fontsize = 21)\n",
    "    ax[i].axis('off')"
   ]
  },
  {
   "cell_type": "markdown",
   "metadata": {},
   "source": [
    "The ultimate goal of this project is to investigating different machine learning techniques and determine the one with the best accuracy, all while also investigating hyperparameters that contribute to the success of the algorithms."
   ]
  },
  {
   "cell_type": "markdown",
   "metadata": {},
   "source": [
    "### Building a Model"
   ]
  },
  {
   "cell_type": "markdown",
   "metadata": {},
   "source": [
    "Some important notes:\n",
    "\n",
    "The __batch size__ is a hyperparameter of gradient descent that controls the number of training samples to work through before the model's internal parameters are updated.\n",
    "\n",
    "The number of __epochs__ is a hyperparameter of gradient descent that controls the number of complete passes through the training dataset. \n",
    "\n",
    "- after one epoch, all training samples have been assessed, which would mean it has looked through all the batches once\n",
    "\n",
    "The __learning rate__ is the rate at which model parameters are updated at each batch/epoch. Smaller values mean the model learns relatively slow. The learning rate is an essential hyperparameter in machine learning because it dictates how much your model learns from new observations versus how much it desires to disregard the past. \n",
    "\n",
    "Keep these definitions in mind as we go through this. These are the hypeparameters we will investigate and alter to control the learning and optimization process of our algorithm. "
   ]
  },
  {
   "cell_type": "markdown",
   "metadata": {},
   "source": [
    "Lets begin by defining a neural network. There are some important concepts to understand to actually create this model, so lets take it slow. With 2D (matrix) data, we first have to flatten the matrix. This makes the input features linear, which provides versatility in training. We can do this using the `nn.Flatten()` function. To see it in action, lets see how if modifies the matrix of one image."
   ]
  },
  {
   "cell_type": "code",
   "execution_count": 20,
   "metadata": {},
   "outputs": [
    {
     "name": "stdout",
     "output_type": "stream",
     "text": [
      "Before flattening:\t torch.Size([1, 28, 28])\n",
      "After flattening:\t torch.Size([1, 784])\n"
     ]
    }
   ],
   "source": [
    "flatten = nn.Flatten()\n",
    "flat_image = flatten(random_image)\n",
    "print('Before flattening:\\t', random_image.shape)\n",
    "print('After flattening:\\t', flat_image.shape)"
   ]
  },
  {
   "cell_type": "markdown",
   "metadata": {},
   "source": [
    "We can see that when we flatten the matrix, we are left with an array of size 784, which is 28*28. Now that we have flattened data, we can create layers for the neural network. We begin with a linear layer, which in pytorch is `nn.Linear` which is a module that transforms the data into a linear layer using the feature data given. You also have to specify the number of features you would like to output. This is essentially the number of nodes within that layer. This choice is something you can of course play with. For this example, we are using 20 nodes in this hidden layer. "
   ]
  },
  {
   "cell_type": "code",
   "execution_count": 21,
   "metadata": {},
   "outputs": [
    {
     "name": "stdout",
     "output_type": "stream",
     "text": [
      "torch.Size([1, 20])\n"
     ]
    }
   ],
   "source": [
    "layer1 = nn.Linear(in_features=28*28, out_features=20)\n",
    "hidden1 = layer1(flat_image)\n",
    "print(hidden1.shape)"
   ]
  },
  {
   "cell_type": "markdown",
   "metadata": {},
   "source": [
    "We can see that when we pass layer1 the input features, which in this case is the flattened image, we will result in an array that is size number of nodes we choose. So in this case, the hidden layer size is 20. When developing the neural network, we also want nonlinear activation functions to map the input and output for each layer. We are going to use a `nn.ReLU` activation function but can play with others such as `nn.PReLU` or `nn.ELU`. These activation functions introduce nonlinearity within the model."
   ]
  },
  {
   "cell_type": "code",
   "execution_count": 22,
   "metadata": {},
   "outputs": [
    {
     "name": "stdout",
     "output_type": "stream",
     "text": [
      "Before ReLU: tensor([[ 1.1308e-01,  7.8541e-02,  3.2105e-02, -3.1373e-01,  2.1415e-01,  4.7796e-02, -7.4124e-02,  2.5886e-02,\n",
      "         -6.9871e-02, -4.5069e-01,  4.1861e-04,  1.8736e-01,  6.0131e-01,  1.6730e-01, -6.1446e-02,  2.4272e-01,\n",
      "          1.6963e-01, -6.6513e-02, -5.3369e-02,  1.2783e-01]], grad_fn=<AddmmBackward0>)\n",
      "After ReLU: tensor([[1.1308e-01, 7.8541e-02, 3.2105e-02, 0.0000e+00, 2.1415e-01, 4.7796e-02, 0.0000e+00, 2.5886e-02, 0.0000e+00,\n",
      "         0.0000e+00, 4.1861e-04, 1.8736e-01, 6.0131e-01, 1.6730e-01, 0.0000e+00, 2.4272e-01, 1.6963e-01, 0.0000e+00,\n",
      "         0.0000e+00, 1.2783e-01]], grad_fn=<ReluBackward0>)\n"
     ]
    }
   ],
   "source": [
    "print(f\"Before ReLU: {hidden1}\")\n",
    "hidden1 = nn.ReLU()(hidden1)\n",
    "print(f\"After ReLU: {hidden1}\")"
   ]
  },
  {
   "cell_type": "markdown",
   "metadata": {},
   "source": [
    "Now we want to order all the layers we will ultimately have in our network. We will order them by first layer, any activation function, then output layer. If you want more than one hidden layer, you can add more layer activation function pairs to the order. An example of a stack of n+1 layers is shown below:\n",
    "\n",
    "Input = flattened matrix (an array) of your feature data \n",
    "\n",
    "- hidden layer 1 (takes in input, outputs nodes from layer 1)\n",
    "- activation function\n",
    "- hidden layer 2 (takes in nodes from layer 1, outputs nodes from layer 2)\n",
    "- activation function\n",
    "- ....\n",
    "- hidden layer n (takes in nodes from layer n-1, outputs nodes from layer n)\n",
    "- activation function\n",
    "- output layer (takes in nodes from layer n, outputs num classes)\n",
    "\n",
    "output = array of size number of classes\n",
    "\n",
    "Here is an example of a small network with only one hidden layer and an output layer."
   ]
  },
  {
   "cell_type": "code",
   "execution_count": 23,
   "metadata": {},
   "outputs": [],
   "source": [
    "small_network = nn.Sequential(\n",
    "    flatten,            # nn.Flatten()\n",
    "    layer1,             # nn.Linear(in_features=28*28, out_features=20)\n",
    "    nn.ReLU(),          # activation function \n",
    "    nn.Linear(20, 10)   # output layer\n",
    ")"
   ]
  },
  {
   "cell_type": "markdown",
   "metadata": {},
   "source": [
    "Now that we have a miniature network, we can run it on one image just to see what we get. "
   ]
  },
  {
   "cell_type": "code",
   "execution_count": 24,
   "metadata": {},
   "outputs": [
    {
     "data": {
      "text/plain": [
       "tensor([[ 0.3686, -0.0562,  0.1976, -0.0653,  0.2150, -0.0391, -0.0037, -0.2843, -0.0311, -0.1537]],\n",
       "       grad_fn=<AddmmBackward0>)"
      ]
     },
     "execution_count": 24,
     "metadata": {},
     "output_type": "execute_result"
    }
   ],
   "source": [
    "small_network(random_image)"
   ]
  },
  {
   "cell_type": "markdown",
   "metadata": {},
   "source": [
    "The output from the small network is an array of size 10, as expected. The values will be what we call _logits_ which are raw values [-infinity, infinity] that ultimately represent the probabilities of class predictions. Although, these are raw values, and we need the `nn.Softmax` module to get the actual probabilities. \n",
    "\n",
    "`nn.Softmax` takes in a dimension, that specifies the axis for which values must sum to 0. Since we have a row-oriented array here -- which is often the case for flattened matrices -- the dimension is 1."
   ]
  },
  {
   "cell_type": "code",
   "execution_count": 25,
   "metadata": {},
   "outputs": [
    {
     "data": {
      "text/plain": [
       "tensor([[0.1400, 0.0916, 0.1180, 0.0907, 0.1201, 0.0932, 0.0965, 0.0729, 0.0939, 0.0831]], grad_fn=<SoftmaxBackward0>)"
      ]
     },
     "execution_count": 25,
     "metadata": {},
     "output_type": "execute_result"
    }
   ],
   "source": [
    "logits = small_network(random_image)\n",
    "softmax = nn.Softmax(dim=1)\n",
    "pred_probabilities = softmax(logits)\n",
    "pred_probabilities"
   ]
  },
  {
   "cell_type": "markdown",
   "metadata": {},
   "source": [
    "After calling the softmax function for the raw logits, we have an array that shows the probabilities for prediction, scaled to vales [0, 1], showing the predicted probabilities for each class. We would then say the prediction for the image is the class with the greatest probability. The `torch.max` function which takes in the softmax probabilities, and the dimension, returning the maximum probability and the index of that probability. The index pertains to the class predictions in this case. Of course this is completely random as the model has not been trained, but for the sake of example lets see what the prediction is. "
   ]
  },
  {
   "cell_type": "code",
   "execution_count": 26,
   "metadata": {},
   "outputs": [
    {
     "name": "stdout",
     "output_type": "stream",
     "text": [
      "The maximum probability is 0.14003434777259827, the predicted class is 0, and the label is T-shirt/Top\n"
     ]
    }
   ],
   "source": [
    "prob, pred_class = torch.max(pred_probabilities, dim=1)\n",
    "print(f'The maximum probability is {prob[0]}, the predicted class is {pred_class[0]}, and the label is {output_label(pred_class)}')"
   ]
  },
  {
   "cell_type": "markdown",
   "metadata": {},
   "source": [
    "The index with the greatest probability is index 2, which is the output label 'Pullover', although we know, since this is the random image we have been using, it is actually a T-shirt. "
   ]
  },
  {
   "cell_type": "markdown",
   "metadata": {},
   "source": [
    "Lets go ahead and build a neural network using what we have learned!"
   ]
  },
  {
   "cell_type": "code",
   "execution_count": 184,
   "metadata": {},
   "outputs": [],
   "source": [
    "class NeuralNetwork(nn.Module):\n",
    "    '''\n",
    "    A simple neural network model for the fashionMNIST data set \n",
    "    - the input features should be a matrix of size 28x28\n",
    "    FULLY CONNECTED -- 2 HIDDEN LAYERS\n",
    "    '''\n",
    "    def __init__(self):\n",
    "        # the super command makes my NeuralNetwork class\n",
    "        # inherit all the methods within the nn.Module\n",
    "        super(NeuralNetwork, self).__init__()\n",
    "\n",
    "        # flatten the matrix\n",
    "        self.flatten = nn.Flatten()\n",
    "\n",
    "        # the input is the number of features, which in this\n",
    "        # case is the total number of pixels\n",
    "        input_features = 28*28\n",
    "        # we are going to do two hidden layers here, lets use\n",
    "        # 512 nodes for both hidden layers\n",
    "        num_nodes = 256\n",
    "        # finally we have our final output, which will be the\n",
    "        # classes, and remember we have 10 items of clothing\n",
    "        num_classes = 10\n",
    "\n",
    "        # we are going to create a sequential stack that holds \n",
    "        # all the data in linear form\n",
    "        self.linear_relu_stack = nn.Sequential(\n",
    "            nn.Linear(input_features, num_nodes),   # layer 1\n",
    "            nn.ReLU(),  # activation function \n",
    "            nn.Linear(num_nodes, num_nodes),        # layer 2\n",
    "            nn.ReLU(),  # activation function \n",
    "            nn.Linear(num_nodes, num_classes)       # output layer\n",
    "        )\n",
    "\n",
    "    def forward(self, x):\n",
    "        '''\n",
    "        Execute the sequential stack for a flattened matrix and \n",
    "        return the raw logits \n",
    "        '''\n",
    "        x = self.flatten(x)\n",
    "        logits = self.linear_relu_stack(x)\n",
    "        return logits"
   ]
  },
  {
   "cell_type": "code",
   "execution_count": 185,
   "metadata": {},
   "outputs": [
    {
     "data": {
      "text/plain": [
       "NeuralNetwork(\n",
       "  (flatten): Flatten(start_dim=1, end_dim=-1)\n",
       "  (linear_relu_stack): Sequential(\n",
       "    (0): Linear(in_features=784, out_features=256, bias=True)\n",
       "    (1): ReLU()\n",
       "    (2): Linear(in_features=256, out_features=256, bias=True)\n",
       "    (3): ReLU()\n",
       "    (4): Linear(in_features=256, out_features=10, bias=True)\n",
       "  )\n",
       ")"
      ]
     },
     "execution_count": 185,
     "metadata": {},
     "output_type": "execute_result"
    }
   ],
   "source": [
    "model = NeuralNetwork()\n",
    "model"
   ]
  },
  {
   "cell_type": "markdown",
   "metadata": {},
   "source": [
    "Alright! We have a neural network. Now what? Well we have to train the network. We also want to make sure we can do things like assess the performance of the network. We are going to choose a loss function, which in this case we will choose `nn.CrossEntropyLoss()`. This loss function is commonly used because it is convex and easily optimized. The goal of course is to minimize the error between the model and the predictions, and being able to minimize (optimize) the error with ease is essential for model performance. A lot of the work in machine learning models is within the gradient descent, where loss is optimized. The `nn.CrossEntropyLoss()` function actually computes the `nn.Softmax()` so we need to pass it the raw logit values. This is why the neural network designed above does not calculate the `nn.Softmax`.\n",
    "\n",
    "For further clarification and knowledge, there are a variety of loss functions out there and you should choose one based on the data and classification you are attempting. `nn.MSELoss`, which is the mean squared error, is commonly used for regression. You could also use `nn.NLLLoss`, which is the Negative Log Likelihood, which is commonly used for classification. As stated previously, `nn.CrossEntropyLoss` is often used for neural networks, and combines `nn.LogSoftMax` and `nn.NLLLoss`.\n",
    "\n",
    "An example to interpret `nn.CrossEntropyLoss()`: a loss of 0.22 means that, in average, your model is assigning the correct class a probability around 80% (remember the cross entropy loss for a single sample is $-\\log(\\hat{y}_y)$."
   ]
  },
  {
   "cell_type": "markdown",
   "metadata": {},
   "source": [
    "We can play around by creating the loss function and finding the loss on the `random_image` we have been dealing with. We will pass the entropy loss function the logits computed previously and the `torch.LongTensor` version of the `random_image_label`."
   ]
  },
  {
   "cell_type": "code",
   "execution_count": 65,
   "metadata": {},
   "outputs": [
    {
     "data": {
      "text/plain": [
       "tensor(2.1194, grad_fn=<NllLossBackward0>)"
      ]
     },
     "execution_count": 65,
     "metadata": {},
     "output_type": "execute_result"
    }
   ],
   "source": [
    "loss_function = nn.CrossEntropyLoss()\n",
    "true_class = torch.LongTensor([random_image_label])\n",
    "loss_function(logits, true_class)"
   ]
  },
  {
   "cell_type": "markdown",
   "metadata": {},
   "source": [
    "Now that we have an idea about what the loss function is doing, we need try to optimize the loss. There are a variety of optimizers that can be used with pytorch. Check out the `optim` package to see all the optimizers available. This choice is sometimes hard. There is a simple stochastic gradient descent optimizer `optim.SGD`, or `optim.ADAM` (very popular for the fashionMNIST dataset) and `optim.RMPprop`."
   ]
  },
  {
   "cell_type": "markdown",
   "metadata": {},
   "source": [
    "When you begin to optimize the loss function, it is now the time to take into account the model parameters you will be using. The optimizer you choose must be initialized with these model parameters, such as the learning rate. For this initial example, we will be using a learning rate of 0.003. The model, which is type NeuralNetwork (the class we created previously) has a method in the base nn.Module named `parameters()` that access these parameters for us, to send to the optimization algorithm. "
   ]
  },
  {
   "cell_type": "code",
   "execution_count": 150,
   "metadata": {},
   "outputs": [],
   "source": [
    "learning_rate = 1e-3\n",
    "optimizer = optim.Adam(model.parameters(), lr = learning_rate)"
   ]
  },
  {
   "cell_type": "code",
   "execution_count": 68,
   "metadata": {},
   "outputs": [],
   "source": [
    "def update_data(BATCH_SIZE=128):\n",
    "    train_loader = DataLoader(dataset=train_set, batch_size=BATCH_SIZE, shuffle=True)\n",
    "    valid_loader = DataLoader(dataset=valid_set, batch_size=BATCH_SIZE, shuffle=False)\n",
    "    test_loader = DataLoader(dataset=test_set,batch_size=BATCH_SIZE, shuffle=False)\n",
    "    return train_loader, valid_loader, test_loader"
   ]
  },
  {
   "cell_type": "markdown",
   "metadata": {},
   "source": [
    "The data downloaded from tortchvision is now stored in the data directory located within the current working directory, we can now load it within the notebook using the dataloder. The data is a large set of images, which is important to keep in mind. In this case, I have loaded up the data in batches, which is a hyper parameter for the machine learning process. The batch size can be changed if desired. The batch size will be discussed more later when we begin to develop the model. I am showing the data being loaded in this way for the sake of example, although it will be changed when we begin to train the model and find the optimal hyper parameters."
   ]
  },
  {
   "cell_type": "markdown",
   "metadata": {},
   "source": [
    "Remember the training set has 48000 data points. This is what we have split into batches."
   ]
  },
  {
   "cell_type": "markdown",
   "metadata": {},
   "source": [
    "We can now train and test how our network is performing. We are going to have a training loop and a validation loop."
   ]
  },
  {
   "cell_type": "code",
   "execution_count": 95,
   "metadata": {},
   "outputs": [],
   "source": [
    "def train_loop(dataloader: torch.utils.data.dataloader.DataLoader, \n",
    "                model: NeuralNetwork, \n",
    "                loss_function: torch.nn.modules.loss, \n",
    "                optimizer: torch.optim):\n",
    "    '''\n",
    "    This function executes the training step for the model. The inputs are:\n",
    "    - dataloader: the data from the dataloader function in torch\n",
    "    - model: in this case we are using the NeuralNetwork type created previously\n",
    "    - loss_function: the loss function you will ultimately choose, in this case\n",
    "                     the type is torch.nn.modules.loss.CrossEntropyLoss as we are\n",
    "                     using the CrossEntropyLoss loss function\n",
    "    - optimizer: the optimizer from the optim package\n",
    "    '''\n",
    "    size = len(dataloader.dataset)\n",
    "    for batch, (image, image_label) in enumerate(dataloader):\n",
    "        # Compute prediction and loss\n",
    "        prediction = model(image)\n",
    "        loss = loss_function(prediction, image_label)\n",
    "\n",
    "        # Backpropagation\n",
    "        optimizer.zero_grad()\n",
    "        loss.backward()\n",
    "        optimizer.step()\n",
    "\n",
    "        # only print some stats every 100 batches\n",
    "        if batch % 100 == 0:\n",
    "            loss, current = loss.item(), batch * len(image)\n",
    "            print(f\"loss: {loss:>7f}  [{current:>5d}/{size:>5d}]\")\n",
    "\n",
    "\n",
    "def validation_loop(dataloader: torch.utils.data.dataloader.DataLoader, \n",
    "                model: NeuralNetwork, \n",
    "                loss_function: torch.nn.modules.loss):\n",
    "    '''\n",
    "    This function is used on the validation data to test the accuracy\n",
    "    of the model on the validation set. \n",
    "    - dataloader: the validation data from the dataloader function in torch\n",
    "    - model: use the same you use in train_loop\n",
    "    - loss_function: use the same you use in train_loop\n",
    "    '''\n",
    "    size = len(dataloader.dataset)\n",
    "    num_batches = len(dataloader)\n",
    "    test_loss, correct = 0, 0\n",
    "\n",
    "    # we use no_grad() here since this is the validation and the \n",
    "    # grad is used to optimize the error each loop, we want to \n",
    "    # use the same one generated in the train_loop\n",
    "    with torch.no_grad():\n",
    "        for X, y in dataloader:\n",
    "            pred = model(X)\n",
    "            test_loss += loss_function(pred, y).item()\n",
    "            correct += (pred.argmax(1) == y).type(torch.float).sum().item()\n",
    "\n",
    "    test_loss /= num_batches\n",
    "    correct /= size\n",
    "    print(f\"Test Error: \\n Accuracy: {(100*correct):>0.1f}%, Avg loss: {test_loss:>8f} \\n\")"
   ]
  },
  {
   "cell_type": "markdown",
   "metadata": {},
   "source": [
    "Lets go ahead and try it out!"
   ]
  },
  {
   "cell_type": "code",
   "execution_count": 151,
   "metadata": {},
   "outputs": [
    {
     "name": "stdout",
     "output_type": "stream",
     "text": [
      "Epoch 1\n",
      "-------------------------------\n",
      "loss: 2.297202  [    0/48000]\n",
      "loss: 0.602654  [12800/48000]\n",
      "loss: 0.505886  [25600/48000]\n",
      "loss: 0.603907  [38400/48000]\n",
      "Test Error: \n",
      " Accuracy: 83.8%, Avg loss: 0.470459 \n",
      "\n",
      "Epoch 2\n",
      "-------------------------------\n",
      "loss: 0.496968  [    0/48000]\n",
      "loss: 0.418039  [12800/48000]\n",
      "loss: 0.348570  [25600/48000]\n",
      "loss: 0.468451  [38400/48000]\n",
      "Test Error: \n",
      " Accuracy: 87.0%, Avg loss: 0.360674 \n",
      "\n",
      "Epoch 3\n",
      "-------------------------------\n",
      "loss: 0.277681  [    0/48000]\n",
      "loss: 0.290925  [12800/48000]\n",
      "loss: 0.416162  [25600/48000]\n",
      "loss: 0.235787  [38400/48000]\n",
      "Test Error: \n",
      " Accuracy: 87.9%, Avg loss: 0.335625 \n",
      "\n",
      "Epoch 4\n",
      "-------------------------------\n",
      "loss: 0.408194  [    0/48000]\n",
      "loss: 0.415229  [12800/48000]\n",
      "loss: 0.325675  [25600/48000]\n",
      "loss: 0.433964  [38400/48000]\n",
      "Test Error: \n",
      " Accuracy: 88.1%, Avg loss: 0.332448 \n",
      "\n",
      "Epoch 5\n",
      "-------------------------------\n",
      "loss: 0.301518  [    0/48000]\n",
      "loss: 0.395055  [12800/48000]\n",
      "loss: 0.282579  [25600/48000]\n",
      "loss: 0.349042  [38400/48000]\n",
      "Test Error: \n",
      " Accuracy: 88.4%, Avg loss: 0.325903 \n",
      "\n",
      "Epoch 6\n",
      "-------------------------------\n",
      "loss: 0.194457  [    0/48000]\n",
      "loss: 0.283951  [12800/48000]\n",
      "loss: 0.329823  [25600/48000]\n",
      "loss: 0.326164  [38400/48000]\n",
      "Test Error: \n",
      " Accuracy: 88.0%, Avg loss: 0.327924 \n",
      "\n",
      "Epoch 7\n",
      "-------------------------------\n",
      "loss: 0.240443  [    0/48000]\n",
      "loss: 0.244386  [12800/48000]\n",
      "loss: 0.193949  [25600/48000]\n",
      "loss: 0.270937  [38400/48000]\n",
      "Test Error: \n",
      " Accuracy: 88.8%, Avg loss: 0.309602 \n",
      "\n",
      "Epoch 8\n",
      "-------------------------------\n",
      "loss: 0.297721  [    0/48000]\n",
      "loss: 0.188814  [12800/48000]\n",
      "loss: 0.305038  [25600/48000]\n",
      "loss: 0.228069  [38400/48000]\n",
      "Test Error: \n",
      " Accuracy: 88.9%, Avg loss: 0.309673 \n",
      "\n",
      "Epoch 9\n",
      "-------------------------------\n",
      "loss: 0.286372  [    0/48000]\n",
      "loss: 0.294312  [12800/48000]\n",
      "loss: 0.291262  [25600/48000]\n",
      "loss: 0.274535  [38400/48000]\n",
      "Test Error: \n",
      " Accuracy: 88.2%, Avg loss: 0.324369 \n",
      "\n",
      "Epoch 10\n",
      "-------------------------------\n",
      "loss: 0.398201  [    0/48000]\n",
      "loss: 0.379567  [12800/48000]\n",
      "loss: 0.278448  [25600/48000]\n",
      "loss: 0.190554  [38400/48000]\n",
      "Test Error: \n",
      " Accuracy: 88.8%, Avg loss: 0.313809 \n",
      "\n",
      "Done!\n"
     ]
    }
   ],
   "source": [
    "train_loader, valid_loader, test_loader = update_data(128)\n",
    "model = NeuralNetwork()\n",
    "loss_function = nn.CrossEntropyLoss()\n",
    "learning_rate = 1e-3\n",
    "optimizer = torch.optim.Adam(model.parameters(), lr=learning_rate)\n",
    "epochs = 10\n",
    "for t in range(epochs):\n",
    "    print(f\"Epoch {t+1}\\n-------------------------------\")\n",
    "    train_loop(train_loader, model, loss_function, optimizer)\n",
    "    validation_loop(valid_loader, model, loss_function)\n",
    "print(\"Done!\")"
   ]
  },
  {
   "cell_type": "markdown",
   "metadata": {},
   "source": [
    "The final model accuracy on the above trained model can be tested on the testing dataset:"
   ]
  },
  {
   "cell_type": "code",
   "execution_count": 152,
   "metadata": {},
   "outputs": [
    {
     "name": "stdout",
     "output_type": "stream",
     "text": [
      "Test Error: \n",
      " Accuracy: 87.8%, Avg loss: 0.338173 \n",
      "\n"
     ]
    }
   ],
   "source": [
    "validation_loop(test_loader, model, loss_function)"
   ]
  },
  {
   "cell_type": "markdown",
   "metadata": {},
   "source": [
    "We just trained our model! We trained on 10 epochs, meaning we gave our model 10 tries to improve its predictions. With 10 epochs, we achieved 87.8% accuracy on the test set. \n",
    "\n",
    "At this point, we now know how to build and implement a forward feed fully connect neural network. The question now is, was this random network the best one? We can investigate this using model exploration, which is a common technique in machine learning. The idea is to determine the hyperparameters that maximize the validation error. I go through some of this exploration throughout the rest of this notebook."
   ]
  },
  {
   "cell_type": "markdown",
   "metadata": {},
   "source": [
    "### Model Exploration"
   ]
  },
  {
   "cell_type": "markdown",
   "metadata": {},
   "source": [
    "Now that we have an idea about what we are trying to achieve here, lets modify some of our programs, try different networks, and test visualize the results. I am going to modify the train and validation loops to return interesting values for visualization."
   ]
  },
  {
   "cell_type": "code",
   "execution_count": 81,
   "metadata": {},
   "outputs": [],
   "source": [
    "def train_loop_modified(dataloader: torch.utils.data.dataloader.DataLoader, \n",
    "                model: NeuralNetwork, \n",
    "                loss_function: torch.nn.modules.loss, \n",
    "                optimizer: torch.optim) -> float :\n",
    "\n",
    "    size = len(dataloader.dataset)\n",
    "    num_batches = len(dataloader)\n",
    "\n",
    "    correct = 0\n",
    "    loss_acc = 0\n",
    "    for batch, (image, image_label) in enumerate(dataloader):\n",
    "        prediction = model(image)\n",
    "        loss = loss_function(prediction, image_label)\n",
    "        loss_acc += loss.item()\n",
    "\n",
    "        optimizer.zero_grad()\n",
    "        loss.backward()\n",
    "        optimizer.step()\n",
    "\n",
    "        correct += (prediction.argmax(1) == image_label).type(torch.float).sum().item()\n",
    "    correct /= size\n",
    "    loss_acc /= num_batches\n",
    "    return 100 * correct, loss_acc"
   ]
  },
  {
   "cell_type": "code",
   "execution_count": 82,
   "metadata": {},
   "outputs": [],
   "source": [
    "def validation_loop_modified(dataloader: torch.utils.data.dataloader.DataLoader, \n",
    "                model: NeuralNetwork, \n",
    "                loss_function: torch.nn.modules.loss):\n",
    "\n",
    "    size = len(dataloader.dataset)\n",
    "    num_batches = len(dataloader)\n",
    "    test_loss, correct = 0, 0\n",
    "\n",
    "    with torch.no_grad():\n",
    "        for image, image_class in dataloader:\n",
    "            pred = model(image)\n",
    "            test_loss += loss_function(pred, image_class).item()\n",
    "            correct += (pred.argmax(1) == image_class).type(torch.float).sum().item()\n",
    "\n",
    "    test_loss /= num_batches\n",
    "    correct /= size\n",
    "    return 100 * correct, test_loss"
   ]
  },
  {
   "cell_type": "markdown",
   "metadata": {},
   "source": [
    "#### Number of Epochs Test"
   ]
  },
  {
   "cell_type": "markdown",
   "metadata": {},
   "source": [
    "Lets first start by testing how many epochs is optimal for training. The following code is going to train the model for 30 epochs and keep track of the accuracy of prediction at each epoch."
   ]
  },
  {
   "cell_type": "code",
   "execution_count": 112,
   "metadata": {},
   "outputs": [
    {
     "name": "stdout",
     "output_type": "stream",
     "text": [
      "Currently on Epoch 30....\n",
      "Done!\n"
     ]
    }
   ],
   "source": [
    "# this takes 5 min on my machine\n",
    "train_loader, valid_loader, test_loader = update_data(128)\n",
    "model = NeuralNetwork()\n",
    "loss_function = nn.CrossEntropyLoss()\n",
    "learning_rate = 1e-3\n",
    "optimizer = torch.optim.Adam(model.parameters(), lr=learning_rate)\n",
    "epochs = range(30)\n",
    "train_accuracies = []\n",
    "valid_accuracies = []\n",
    "for t in epochs:\n",
    "    clear_output(wait=True)\n",
    "    print(f\"Currently on Epoch {t+1}....\")\n",
    "    train_accuracy,_ = train_loop_modified(train_loader, model, loss_function, optimizer)\n",
    "    train_accuracies.append(train_accuracy)\n",
    "    valid_accuracy,_ = validation_loop_modified(valid_loader, model, loss_function)\n",
    "    valid_accuracies.append(valid_accuracy)\n",
    "print(\"Done!\")"
   ]
  },
  {
   "cell_type": "markdown",
   "metadata": {},
   "source": [
    "To train this model for 30 epochs, it took about 5 minutes on my local machine (with a batch size of 128). This is a decent amount of time when you want to try new models over and over again. Lets plot the accuracy of the network as a function of epochs to determine how many epochs we should use."
   ]
  },
  {
   "cell_type": "code",
   "execution_count": 147,
   "metadata": {},
   "outputs": [],
   "source": [
    "# epoch data results so you don't have to run test again\n",
    "with open('exploration_data.txt') as f:\n",
    "    lines = f.readlines()\n",
    "    for i, line in enumerate(lines):\n",
    "        lines[i] = line.strip('\\n').strip()\n",
    "\n",
    "epochs = list(map(int, lines[1][7:].split(' ')))\n",
    "train_accuracies = list(map(float, lines[2][6:].split(' ')))\n",
    "valid_accuracies = list(map(float, lines[3][11:].split(' ')))\n",
    "lines = None"
   ]
  },
  {
   "cell_type": "code",
   "execution_count": 168,
   "metadata": {},
   "outputs": [
    {
     "data": {
      "image/png": "[encoded data removed]",
      "text/plain": [
       "<Figure size 432x288 with 1 Axes>"
      ]
     },
     "metadata": {
      "needs_background": "light"
     },
     "output_type": "display_data"
    }
   ],
   "source": [
    "plt.rcParams.update({'font.size': 18})\n",
    "plt.plot(epochs, train_accuracies, 'ko-', label = 'Train')\n",
    "plt.plot(epochs, valid_accuracies, 'bo--', label = 'Validation')\n",
    "plt.xlabel('Epochs'); plt.ylabel('% Accuracy')\n",
    "plt.legend(); plt.show()"
   ]
  },
  {
   "cell_type": "markdown",
   "metadata": {},
   "source": [
    "The accuracy of the validation set doesn't really improve after about 10 epochs, so we will stick to that for testing some of the other aspects of the network. Lets now look at how many layers in a fully connected neural network (here with 256 nodes). The new network is defined below, where the number of layers can be chosen. Note, the base model above has 2 hidden layers.  "
   ]
  },
  {
   "cell_type": "markdown",
   "metadata": {},
   "source": [
    "#### Number of Layers Test"
   ]
  },
  {
   "cell_type": "code",
   "execution_count": 169,
   "metadata": {},
   "outputs": [],
   "source": [
    "def linear_relu(dim_in, dim_out, num_layers):\n",
    "    layers = []\n",
    "    for i in range(num_layers-1):\n",
    "        layers.extend([nn.Linear(dim_in, dim_out),\n",
    "            nn.ReLU()])\n",
    "    return layers\n",
    "\n",
    "class NeuralNetwork_num_layers(nn.Module):\n",
    "    ''' Number of layers is variable '''\n",
    "    def __init__(self, num_layers):\n",
    "        super(NeuralNetwork_num_layers, self).__init__()\n",
    "        self.flatten = nn.Flatten()\n",
    "        input_features = 28*28\n",
    "        num_nodes = 256\n",
    "        num_classes = 10\n",
    "        self.linear_relu_stack = nn.Sequential(\n",
    "            nn.Linear(input_features, num_nodes),   # layer 1\n",
    "            nn.ReLU(),  # activation function \n",
    "            *linear_relu(num_nodes, num_nodes, num_layers),\n",
    "            nn.Linear(num_nodes, num_classes)       # output layer\n",
    "        )\n",
    "\n",
    "    def forward(self, x):\n",
    "        x = self.flatten(x)\n",
    "        logits = self.linear_relu_stack(x)\n",
    "        return logits"
   ]
  },
  {
   "cell_type": "code",
   "execution_count": 170,
   "metadata": {},
   "outputs": [
    {
     "name": "stdout",
     "output_type": "stream",
     "text": [
      "Currently testing 6 Layers\n",
      "Currently on Epoch 1....\n",
      "Currently on Epoch 2....\n",
      "Currently on Epoch 3....\n",
      "Currently on Epoch 4....\n",
      "Currently on Epoch 5....\n",
      "Currently on Epoch 6....\n",
      "Currently on Epoch 7....\n",
      "Currently on Epoch 8....\n",
      "Currently on Epoch 9....\n",
      "Currently on Epoch 10....\n",
      "Done!\n"
     ]
    }
   ],
   "source": [
    "# this took 10 minutes on my machine\n",
    "train_loader, valid_loader, test_loader = update_data(128)\n",
    "\n",
    "train_accuracies = []\n",
    "valid_accuracies = []\n",
    "\n",
    "layer_choices = range(2, 7)\n",
    "\n",
    "for num_layers in layer_choices:\n",
    "    model = NeuralNetwork_num_layers(num_layers)\n",
    "    loss_function = nn.CrossEntropyLoss()\n",
    "    learning_rate = 1e-3\n",
    "    optimizer = torch.optim.Adam(model.parameters(), lr=learning_rate)\n",
    "    epochs = 10\n",
    "    clear_output(wait=True)\n",
    "    print(f\"Currently testing {num_layers} Layers\")\n",
    "    for t in range(epochs):\n",
    "        print(f\"Currently on Epoch {t+1}....\")\n",
    "        train_accuracy,_ = train_loop_modified(train_loader, model, loss_function, optimizer)\n",
    "        valid_accuracy,_ = validation_loop_modified(valid_loader, model, loss_function)\n",
    "    train_accuracies.append(train_accuracy)\n",
    "    valid_accuracies.append(valid_accuracy)\n",
    "print(\"Done!\")"
   ]
  },
  {
   "cell_type": "code",
   "execution_count": 178,
   "metadata": {},
   "outputs": [],
   "source": [
    "# num layers data results so you don't have to run test again\n",
    "with open('exploration_data.txt') as f:\n",
    "    lines = f.readlines()\n",
    "    for i, line in enumerate(lines):\n",
    "        lines[i] = line.strip('\\n').strip()\n",
    "\n",
    "num_layers = list(map(int, lines[5][7:].split(' ')))\n",
    "train_accuracies = list(map(float, lines[6][6:].split(' ')))\n",
    "valid_accuracies = list(map(float, lines[7][11:].split(' ')))\n",
    "lines = None"
   ]
  },
  {
   "cell_type": "code",
   "execution_count": 180,
   "metadata": {},
   "outputs": [
    {
     "data": {
      "image/png": "[encoded data removed]",
      "text/plain": [
       "<Figure size 432x288 with 1 Axes>"
      ]
     },
     "metadata": {
      "needs_background": "light"
     },
     "output_type": "display_data"
    }
   ],
   "source": [
    "plt.rcParams.update({'font.size': 18})\n",
    "plt.plot(num_layers, train_accuracies, 'ko-', label = 'Train')\n",
    "plt.plot(num_layers, valid_accuracies, 'bo--', label = 'Validation')\n",
    "plt.xlabel('Num Layers'); plt.ylabel('% Accuracy')\n",
    "plt.legend(); plt.show()"
   ]
  },
  {
   "cell_type": "markdown",
   "metadata": {},
   "source": [
    "Interestingly, the accuracy drastically decreased as the number of layers increased. Although this makes sense, as we are not adding any additional information by adding many symmetric layers. "
   ]
  },
  {
   "cell_type": "markdown",
   "metadata": {},
   "source": [
    "Lets try to find the optimal number of nodes. We will take our base network with 2 hidden layers, as this performed the best in the above test. "
   ]
  },
  {
   "cell_type": "markdown",
   "metadata": {},
   "source": [
    "#### Number of Nodes Test"
   ]
  },
  {
   "cell_type": "code",
   "execution_count": 209,
   "metadata": {},
   "outputs": [],
   "source": [
    "class NeuralNetwork_num_nodes(nn.Module):\n",
    "    '''\n",
    "    A simple neural network model for the fashionMNIST data set \n",
    "    - the input features should be a matrix of size 28x28\n",
    "    FULLY CONNECTED -- 2 HIDDEN LAYERS -- variable num_nodes\n",
    "    '''\n",
    "    def __init__(self, num_nodes):\n",
    "        super(NeuralNetwork_num_nodes, self).__init__()\n",
    "        self.flatten = nn.Flatten()\n",
    "        input_features = 28*28\n",
    "        num_classes = 10\n",
    "        self.linear_relu_stack = nn.Sequential(\n",
    "            nn.Linear(input_features, num_nodes),   # layer 1\n",
    "            nn.ReLU(),  # activation function \n",
    "            nn.Linear(num_nodes, num_nodes),        # layer 2\n",
    "            nn.ReLU(),  # activation function \n",
    "            nn.Linear(num_nodes, num_classes)       # output layer\n",
    "        )\n",
    "\n",
    "    def forward(self, x):\n",
    "        '''\n",
    "        Execute the sequential stack for a flattened matrix and \n",
    "        return the raw logits \n",
    "        '''\n",
    "        x = self.flatten(x)\n",
    "        logits = self.linear_relu_stack(x)\n",
    "        return logits"
   ]
  },
  {
   "cell_type": "code",
   "execution_count": 210,
   "metadata": {},
   "outputs": [
    {
     "name": "stdout",
     "output_type": "stream",
     "text": [
      "Currently testing 2048 Nodes\n",
      "Currently on Epoch 1....\n",
      "Currently on Epoch 2....\n",
      "Currently on Epoch 3....\n",
      "Currently on Epoch 4....\n",
      "Currently on Epoch 5....\n",
      "Currently on Epoch 6....\n",
      "Currently on Epoch 7....\n",
      "Currently on Epoch 8....\n",
      "Currently on Epoch 9....\n",
      "Currently on Epoch 10....\n",
      "Done!\n"
     ]
    }
   ],
   "source": [
    "train_loader, valid_loader, test_loader = update_data(128)\n",
    "\n",
    "train_accuracies = []\n",
    "valid_accuracies = []\n",
    "\n",
    "node_choices = [(lambda n: 2**n)(x) for x in range(6,12)]\n",
    "\n",
    "for num_nodes in node_choices:\n",
    "    model = NeuralNetwork_num_nodes(num_nodes)\n",
    "    loss_function = nn.CrossEntropyLoss()\n",
    "    learning_rate = 1e-3\n",
    "    optimizer = torch.optim.Adam(model.parameters(), lr=learning_rate)\n",
    "    epochs = 10\n",
    "    clear_output(wait=True)\n",
    "    print(f\"Currently testing {num_nodes} Nodes\")\n",
    "    for t in range(epochs):\n",
    "        print(f\"Currently on Epoch {t+1}....\")\n",
    "        train_accuracy,_ = train_loop_modified(train_loader, model, loss_function, optimizer)\n",
    "        valid_accuracy,_ = validation_loop_modified(valid_loader, model, loss_function)\n",
    "    train_accuracies.append(train_accuracy)\n",
    "    valid_accuracies.append(valid_accuracy)\n",
    "print(\"Done!\")"
   ]
  },
  {
   "cell_type": "code",
   "execution_count": 218,
   "metadata": {},
   "outputs": [],
   "source": [
    "# num layers data results so you don't have to run test again\n",
    "with open('exploration_data.txt') as f:\n",
    "    lines = f.readlines()\n",
    "    for i, line in enumerate(lines):\n",
    "        lines[i] = line.strip('\\n').strip()\n",
    "\n",
    "num_nodes = list(map(int, lines[9][:].split(' ')[1:]))\n",
    "train_accuracies = list(map(float, lines[10][:].split(' ')[1:]))\n",
    "valid_accuracies = list(map(float, lines[11][:].split(' ')[1:]))\n",
    "lines = None"
   ]
  },
  {
   "cell_type": "code",
   "execution_count": 219,
   "metadata": {},
   "outputs": [
    {
     "data": {
      "image/png": "[encoded data removed]",
      "text/plain": [
       "<Figure size 432x288 with 1 Axes>"
      ]
     },
     "metadata": {
      "needs_background": "light"
     },
     "output_type": "display_data"
    }
   ],
   "source": [
    "plt.rcParams.update({'font.size': 18})\n",
    "plt.plot(node_choices, train_accuracies, 'ko-', label = 'Train')\n",
    "plt.plot(node_choices, valid_accuracies, 'bo--', label = 'Validation')\n",
    "plt.xlabel('Num Nodes'); plt.ylabel('% Accuracy')\n",
    "plt.legend(); plt.show()"
   ]
  },
  {
   "cell_type": "markdown",
   "metadata": {},
   "source": [
    "We can see that 2048 nodes does the best on the validation set, but the increase from 256, 512, and 1024. 2048 nodes also took a long time to execute, so we will stick to 256 for now. "
   ]
  },
  {
   "cell_type": "markdown",
   "metadata": {},
   "source": [
    "So far the best choices for the model are:\n",
    "\n",
    "- Num Nodes: 2048, but 256 is similar and less computationally heavy\n",
    "- Num Layers: 2\n",
    "- Num Epochs: 10\n",
    "\n",
    "Lets look at optimization on this structure."
   ]
  },
  {
   "cell_type": "markdown",
   "metadata": {},
   "source": [
    "Batch size for the optimizer can be modified. Remember the optimization parameters are updated after each batch."
   ]
  },
  {
   "cell_type": "markdown",
   "metadata": {},
   "source": [
    "#### Batch Size Test"
   ]
  },
  {
   "cell_type": "code",
   "execution_count": 227,
   "metadata": {},
   "outputs": [
    {
     "name": "stdout",
     "output_type": "stream",
     "text": [
      "Testing for a batch size of 2048\n",
      "Currently on Epoch 1....\n",
      "Currently on Epoch 2....\n",
      "Currently on Epoch 3....\n",
      "Currently on Epoch 4....\n",
      "Currently on Epoch 5....\n",
      "Currently on Epoch 6....\n",
      "Currently on Epoch 7....\n",
      "Currently on Epoch 8....\n",
      "Currently on Epoch 9....\n",
      "Currently on Epoch 10....\n",
      "Done!\n"
     ]
    }
   ],
   "source": [
    "# this takes 50 minutes on my machine\n",
    "batch_sizes = [(lambda n: 2**n)(x) for x in range(0,12)]\n",
    "\n",
    "train_accuracies = []\n",
    "valid_accuracies = []\n",
    "time_to_completion = []\n",
    "\n",
    "for batch_size in batch_sizes:\n",
    "\n",
    "    train_loader, valid_loader, test_loader = update_data(batch_size)\n",
    "\n",
    "    model = NeuralNetwork()\n",
    "    loss_function = nn.CrossEntropyLoss()\n",
    "    learning_rate = 1e-3\n",
    "    optimizer = torch.optim.Adam(model.parameters(), lr=learning_rate)\n",
    "    epochs = 10\n",
    "    clear_output(wait=True)\n",
    "    print(f\"Testing for a batch size of {batch_size}\")\n",
    "    start = time.process_time()\n",
    "    for t in range(epochs):\n",
    "        print(f\"Currently on Epoch {t+1}....\")\n",
    "        train_accuracy,_ = train_loop_modified(train_loader, model, loss_function, optimizer)\n",
    "        valid_accuracy,_ = validation_loop_modified(valid_loader, model, loss_function)\n",
    "    \n",
    "    end = time.process_time()\n",
    "    train_accuracies.append(train_accuracy)\n",
    "    valid_accuracies.append(valid_accuracy)\n",
    "    time_to_completion.append(end-start)\n",
    "    \n",
    "print(\"Done!\")"
   ]
  },
  {
   "cell_type": "code",
   "execution_count": 232,
   "metadata": {},
   "outputs": [
    {
     "name": "stdout",
     "output_type": "stream",
     "text": [
      "1 2 4 8 16 32 64 128 256 512 1024 2048 "
     ]
    }
   ],
   "source": [
    "ls = batch_sizes\n",
    "for num in ls:\n",
    "    print(num, end=' ')\n"
   ]
  },
  {
   "cell_type": "code",
   "execution_count": 233,
   "metadata": {},
   "outputs": [
    {
     "name": "stdout",
     "output_type": "stream",
     "text": [
      "86.74374999999999 88.14166666666667 89.24166666666666 90.28541666666666 90.94791666666666 91.18125 91.25833333333333 90.99166666666667 90.41666666666667 89.78333333333333 88.59166666666667 87.2625 "
     ]
    }
   ],
   "source": [
    "ls = train_accuracies\n",
    "for num in ls:\n",
    "    print(num, end=' ')"
   ]
  },
  {
   "cell_type": "code",
   "execution_count": 234,
   "metadata": {},
   "outputs": [
    {
     "name": "stdout",
     "output_type": "stream",
     "text": [
      "86.14166666666667 87.875 88.56666666666668 88.79166666666667 88.8 88.06666666666668 89.625 89.11666666666666 88.60833333333333 87.39166666666667 87.425 86.93333333333332 "
     ]
    }
   ],
   "source": [
    "ls = valid_accuracies\n",
    "for num in ls:\n",
    "    print(num, end=' ')"
   ]
  },
  {
   "cell_type": "code",
   "execution_count": 235,
   "metadata": {},
   "outputs": [
    {
     "name": "stdout",
     "output_type": "stream",
     "text": [
      "3164.811485 1613.865718000001 751.7283559999996 341.006942 192.4119129999999 124.4057789999988 87.17478899999878 73.35671199999888 68.19115899999997 66.18156699999963 64.97983099999874 64.511899000001 "
     ]
    }
   ],
   "source": [
    "ls = time_to_completion\n",
    "for num in ls:\n",
    "    print(num, end=' ')"
   ]
  },
  {
   "cell_type": "code",
   "execution_count": 246,
   "metadata": {},
   "outputs": [
    {
     "data": {
      "text/plain": [
       "Text(-19, 25, 'BS = 128')"
      ]
     },
     "execution_count": 246,
     "metadata": {},
     "output_type": "execute_result"
    },
    {
     "data": {
      "image/png": "[encoded data removed]",
      "text/plain": [
       "<Figure size 432x288 with 1 Axes>"
      ]
     },
     "metadata": {
      "needs_background": "light"
     },
     "output_type": "display_data"
    }
   ],
   "source": [
    "fig, ax1 = plt.subplots()\n",
    "\n",
    "color = 'k'\n",
    "ax1.set_xlabel('Batch Size')\n",
    "ax1.set_ylabel('% Accuracy', color=color)\n",
    "ax1.semilogx(batch_sizes, train_accuracies, 'ko-', label = 'Train')\n",
    "ax1.semilogx(batch_sizes, valid_accuracies, 'bo--',  label = 'Validation')\n",
    "ax1.tick_params(axis='y', labelcolor=color)\n",
    "ax1.legend()\n",
    "\n",
    "x = batch_sizes[7]\n",
    "y = valid_accuracies[7]\n",
    "label = \"BS = {}\".format(x)\n",
    "\n",
    "plt.annotate(label, (x,y), textcoords=\"offset points\", xytext=(-19,25), ha='center') \n",
    "\n",
    "# ax2 = ax1.twinx()\n",
    "\n",
    "# times_min = [(lambda n: n/60)(time) for time in time_to_completion]\n",
    "# color = 'tab:blue'\n",
    "# ax2.semilogx(batch_sizes, times_min, 'o--', color = color)\n",
    "# ax2.set_ylabel('Execution Time (min)', color=color)\n",
    "# ax2.tick_params(axis='y', labelcolor=color)"
   ]
  },
  {
   "cell_type": "markdown",
   "metadata": {},
   "source": [
    "From this, we can see that a batch size of 128 is optimal for validation accuracy, as well as computation time. A batch size of 1 took nearly an hour, which makes sense as we were optimizing every image, since we update after every batch and this had a batch size of 1. "
   ]
  },
  {
   "cell_type": "code",
   "execution_count": 84,
   "metadata": {},
   "outputs": [],
   "source": [
    "def run_test(model = NeuralNetwork(),\n",
    "            loss_function = nn.CrossEntropyLoss(),\n",
    "            optimizer = torch.optim.Adam,\n",
    "            learning = 1e-3,\n",
    "            epochs=10,\n",
    "            batch_size=128):\n",
    "\n",
    "    train_loader, valid_loader, test_loader = update_data(batch_size)\n",
    "\n",
    "    optimizer = optimizer(model.parameters(), lr=learning)\n",
    "\n",
    "    start = time.process_time()\n",
    "    loss_acc = 0\n",
    "    for t in range(epochs):\n",
    "        print(f\"Currently on Epoch {t+1}....\")\n",
    "        train_accuracy, loss = train_loop_modified(train_loader, model, loss_function, optimizer)\n",
    "        valid_accuracy,_ = validation_loop_modified(valid_loader, model, loss_function)\n",
    "        loss_acc+=loss\n",
    "\n",
    "    loss_acc/= epochs\n",
    "    end = time.process_time()\n",
    "\n",
    "    return train_accuracy, valid_accuracy, end-start, loss_acc"
   ]
  },
  {
   "cell_type": "markdown",
   "metadata": {},
   "source": [
    "#### Learning Rate Test"
   ]
  },
  {
   "cell_type": "code",
   "execution_count": 188,
   "metadata": {},
   "outputs": [
    {
     "name": "stdout",
     "output_type": "stream",
     "text": [
      "Testing for a learning rate of 0.4\n",
      "Currently on Epoch 1....\n",
      "Currently on Epoch 2....\n",
      "Currently on Epoch 3....\n",
      "Currently on Epoch 4....\n",
      "Currently on Epoch 5....\n",
      "Currently on Epoch 6....\n",
      "Currently on Epoch 7....\n",
      "Currently on Epoch 8....\n",
      "Currently on Epoch 9....\n",
      "Currently on Epoch 10....\n",
      "Done!\n"
     ]
    }
   ],
   "source": [
    "# this took 22 minutes on my machine\n",
    "learning_rates = [0.0001, 0.0003, 0.0005, 0.0007, 0.001, 0.003, 0.005, 0.007, 0.01, 0.013, 0.015, 0.017, 0.02, 0.025, 0.03, 0.07, 0.1, 0.2, 0.4]\n",
    "\n",
    "train_accuracies = [None] * len(learning_rates)\n",
    "valid_accuracies = [None] * len(learning_rates)\n",
    "time_to_completion = [None] * len(learning_rates)\n",
    "avg_loss_per_test = [None] * len(learning_rates)\n",
    "\n",
    "for i, learning_rate in enumerate(learning_rates):\n",
    "    clear_output(wait=True)\n",
    "    print(f\"Testing for a learning rate of {learning_rate}\")\n",
    "\n",
    "    #----\n",
    "    model = NeuralNetwork()\n",
    "    loss_function = nn.CrossEntropyLoss()\n",
    "    optimizer = torch.optim.Adam(model.parameters(), lr=learning_rate)\n",
    "    learning = 1e-3\n",
    "    epochs=10\n",
    "    batch_size=128\n",
    "    #----\n",
    "\n",
    "    train_loader, valid_loader, test_loader = update_data(batch_size)\n",
    "\n",
    "    loss_acc = 0\n",
    "    start = time.process_time()\n",
    "    for t in range(epochs):\n",
    "        print(f\"Currently on Epoch {t+1}....\")\n",
    "        train_accuracy, loss = train_loop_modified(train_loader, model, loss_function, optimizer)\n",
    "        valid_accuracy,_ = validation_loop_modified(valid_loader, model, loss_function)\n",
    "        loss_acc+=loss\n",
    "        \n",
    "    end = time.process_time()\n",
    "    loss_acc/= epochs\n",
    "\n",
    "    train_accuracies[i] = train_accuracy\n",
    "    valid_accuracies[i] = valid_accuracy\n",
    "    time_to_completion[i] = end - start\n",
    "    avg_loss_per_test[i] = loss_acc\n",
    "    \n",
    "print(\"Done!\")"
   ]
  },
  {
   "cell_type": "code",
   "execution_count": 206,
   "metadata": {},
   "outputs": [],
   "source": [
    "# num layers data results so you don't have to run test again\n",
    "with open('exploration_data.txt') as f:\n",
    "    lines = f.readlines()\n",
    "    for i, line in enumerate(lines):\n",
    "        lines[i] = line.strip('\\n').strip()\n",
    "\n",
    "learning_rates = list(map(float, lines[18][:].split(' ')[1:]))\n",
    "train_accuracies = list(map(float, lines[19][:].split(' ')[1:]))\n",
    "valid_accuracies = list(map(float, lines[20][:].split(' ')[1:]))\n",
    "lines = None"
   ]
  },
  {
   "cell_type": "code",
   "execution_count": 208,
   "metadata": {},
   "outputs": [
    {
     "data": {
      "image/png": "[encoded data removed]",
      "text/plain": [
       "<Figure size 432x288 with 1 Axes>"
      ]
     },
     "metadata": {
      "needs_background": "light"
     },
     "output_type": "display_data"
    }
   ],
   "source": [
    "plt.rcParams.update({'font.size': 18})\n",
    "plt.semilogx(learning_rates[:-4], train_accuracies[:-4], 'ko-', label = 'Train')\n",
    "plt.semilogx(learning_rates[:-4], valid_accuracies[:-4], 'bo--', label = 'Validation')\n",
    "plt.xlabel('Learning rate'); plt.ylabel('% Accuracy')\n",
    "plt.legend(); plt.show()\n"
   ]
  },
  {
   "cell_type": "markdown",
   "metadata": {},
   "source": [
    "Best LR = 0.0007"
   ]
  },
  {
   "cell_type": "code",
   "execution_count": 220,
   "metadata": {},
   "outputs": [],
   "source": [
    "class NeuralNetwork_drop(nn.Module):\n",
    "    '''\n",
    "    - the input features should be a matrix of size 28x28\n",
    "    FULLY CONNECTED -- 2 HIDDEN LAYERS\n",
    "    '''\n",
    "    def __init__(self, drop_p):\n",
    "\n",
    "        super(NeuralNetwork_drop, self).__init__()\n",
    "        self.flatten = nn.Flatten()\n",
    "        input_features = 28*28\n",
    "        num_nodes = 256\n",
    "        num_classes = 10\n",
    "        # drop_p = 0.25\n",
    "\n",
    "        self.linear_relu_stack = nn.Sequential(\n",
    "            nn.Linear(input_features, num_nodes),   # layer 1\n",
    "            nn.Dropout(p=drop_p),\n",
    "            nn.ReLU(),  # activation function \n",
    "            nn.Linear(num_nodes, num_nodes),        # layer 2\n",
    "            nn.Dropout(p=drop_p),\n",
    "            nn.ReLU(),  # activation function \n",
    "            nn.Linear(num_nodes, num_classes)       # output layer\n",
    "        )\n",
    "\n",
    "    def forward(self, x):\n",
    "        '''\n",
    "        Execute the sequential stack for a flattened matrix and \n",
    "        return the raw logits \n",
    "        '''\n",
    "        x = self.flatten(x)\n",
    "        logits = self.linear_relu_stack(x)\n",
    "        return logits"
   ]
  },
  {
   "cell_type": "code",
   "execution_count": 247,
   "metadata": {},
   "outputs": [
    {
     "data": {
      "text/plain": [
       "array([0.        , 0.01052632, 0.02105263, 0.03157895, 0.04210526,\n",
       "       0.05263158, 0.06315789, 0.07368421, 0.08421053, 0.09473684,\n",
       "       0.10526316, 0.11578947, 0.12631579, 0.13684211, 0.14736842,\n",
       "       0.15789474, 0.16842105, 0.17894737, 0.18947368, 0.2       ])"
      ]
     },
     "execution_count": 247,
     "metadata": {},
     "output_type": "execute_result"
    }
   ],
   "source": [
    "np.linspace(0,0.2, 20)"
   ]
  },
  {
   "cell_type": "code",
   "execution_count": 248,
   "metadata": {},
   "outputs": [
    {
     "name": "stdout",
     "output_type": "stream",
     "text": [
      "Testing for a Drop rate of 0.2\n",
      "Currently on Epoch 1....\n",
      "Currently on Epoch 2....\n",
      "Currently on Epoch 3....\n",
      "Currently on Epoch 4....\n",
      "Currently on Epoch 5....\n",
      "Currently on Epoch 6....\n",
      "Currently on Epoch 7....\n",
      "Currently on Epoch 8....\n",
      "Currently on Epoch 9....\n",
      "Currently on Epoch 10....\n"
     ]
    }
   ],
   "source": [
    "# this took 22 minutes on my machine\n",
    "drop_rates = np.linspace(0,0.2, 20)\n",
    "\n",
    "train_accuracies = [None] * len(drop_rates)\n",
    "valid_accuracies = [None] * len(drop_rates)\n",
    "time_to_completion = [None] * len(drop_rates)\n",
    "avg_loss_per_test = [None] * len(drop_rates)\n",
    "\n",
    "for i, drop in enumerate(drop_rates):\n",
    "    clear_output(wait=True)\n",
    "    print(f\"Testing for a Drop rate of {drop}\")\n",
    "\n",
    "    #----\n",
    "    model = NeuralNetwork_drop(drop)\n",
    "    loss_function = nn.CrossEntropyLoss()\n",
    "    optimizer = torch.optim.Adam(model.parameters(), lr=0.0007)\n",
    "    epochs=10\n",
    "    batch_size=128\n",
    "    #----\n",
    "\n",
    "    train_loader, valid_loader, test_loader = update_data(batch_size)\n",
    "\n",
    "    loss_acc = 0\n",
    "    start = time.process_time()\n",
    "    for t in range(epochs):\n",
    "        print(f\"Currently on Epoch {t+1}....\")\n",
    "        train_accuracy, loss = train_loop_modified(train_loader, model, loss_function, optimizer)\n",
    "        valid_accuracy,_ = validation_loop_modified(valid_loader, model, loss_function)\n",
    "        loss_acc+=loss\n",
    "        \n",
    "    end = time.process_time()\n",
    "    loss_acc/= epochs\n",
    "\n",
    "    train_accuracies[i] = train_accuracy\n",
    "    valid_accuracies[i] = valid_accuracy\n",
    "    time_to_completion[i] = end - start\n",
    "    avg_loss_per_test[i] = loss_acc"
   ]
  },
  {
   "cell_type": "code",
   "execution_count": 254,
   "metadata": {},
   "outputs": [
    {
     "name": "stdout",
     "output_type": "stream",
     "text": [
      "88.75833333333333 88.71666666666667 88.94166666666666 88.675 88.41666666666667 88.575 88.9 88.925 88.38333333333334 89.28333333333333 87.68333333333334 89.09166666666667 88.24166666666666 88.88333333333334 88.425 88.575 88.63333333333333 88.40833333333333 88.33333333333333 88.69166666666666 "
     ]
    }
   ],
   "source": [
    "ls=valid_accuracies\n",
    "for num in ls:\n",
    "    print(num, end=' ')"
   ]
  },
  {
   "cell_type": "code",
   "execution_count": 251,
   "metadata": {},
   "outputs": [
    {
     "data": {
      "image/png": "[encoded data removed]",
      "text/plain": [
       "<Figure size 432x288 with 1 Axes>"
      ]
     },
     "metadata": {
      "needs_background": "light"
     },
     "output_type": "display_data"
    }
   ],
   "source": [
    "plt.rcParams.update({'font.size': 18})\n",
    "plt.plot(drop_rates, train_accuracies, 'ko-', label = 'Train')\n",
    "plt.plot(drop_rates, valid_accuracies, 'bo--', label = 'Validation')\n",
    "plt.xlabel('Dropout Rate'); plt.ylabel('% Accuracy')\n",
    "plt.legend(); plt.show()"
   ]
  },
  {
   "cell_type": "code",
   "execution_count": null,
   "metadata": {},
   "outputs": [],
   "source": [
    "best_dr = 0.09473684210526316"
   ]
  },
  {
   "cell_type": "markdown",
   "metadata": {},
   "source": [
    "#### A Final Test \n",
    "\n",
    "Using the best hyperparameters, we can determine how well we did!"
   ]
  },
  {
   "cell_type": "code",
   "execution_count": 271,
   "metadata": {},
   "outputs": [
    {
     "name": "stdout",
     "output_type": "stream",
     "text": [
      "Currently on Epoch 10....\n",
      "Training Accuracy is:\t 90.81666666666666\n",
      "Validation Accuracy is:\t 89.35\n",
      "Test Accuracy is:\t 88.42999999999999\n"
     ]
    }
   ],
   "source": [
    "train_accuracies = [None] * len(drop_rates)\n",
    "valid_accuracies = [None] * len(drop_rates)\n",
    "\n",
    "#----\n",
    "model = NeuralNetwork()\n",
    "loss_function = nn.CrossEntropyLoss()\n",
    "optimizer = torch.optim.Adam(model.parameters(), lr=0.0007)\n",
    "epochs=10\n",
    "batch_size=128\n",
    "#----\n",
    "\n",
    "train_loader, valid_loader, test_loader = update_data(batch_size)\n",
    "\n",
    "for t in range(epochs):\n",
    "    clear_output(wait=True)\n",
    "    print(f\"Currently on Epoch {t+1}....\")\n",
    "    train_accuracy, loss = train_loop_modified(train_loader, model, loss_function, optimizer)\n",
    "    valid_accuracy,_ = validation_loop_modified(valid_loader, model, loss_function)\n",
    "\n",
    "test_accuracy,_ = validation_loop_modified(test_loader, model, loss_function)\n",
    "\n",
    "print(f\"Training Accuracy is:\\t {train_accuracy}\")\n",
    "print(f\"Validation Accuracy is:\\t {valid_accuracy}\")\n",
    "print(f\"Test Accuracy is:\\t {test_accuracy}\")\n"
   ]
  },
  {
   "cell_type": "markdown",
   "metadata": {},
   "source": [
    "This project was built using tutorials in the pytorch doumentation:\n",
    "\n",
    "https://pytorch.org/tutorials/beginner/basics/buildmodel_tutorial.html\n",
    "\n",
    "https://pytorch.org/tutorials/beginner/basics/optimization_tutorial.html"
   ]
  },
  {
   "cell_type": "markdown",
   "metadata": {},
   "source": []
  }
 ],
 "metadata": {
  "interpreter": {
   "hash": "d5b37e5ca0a612e07174d0e7804d8328606ed4dd2f2c84d112ef8b03c1868752"
  },
  "kernelspec": {
   "display_name": "Python 3.10.0 ('py310-pytorch')",
   "language": "python",
   "name": "python3"
  },
  "language_info": {
   "codemirror_mode": {
    "name": "ipython",
    "version": 3
   },
   "file_extension": ".py",
   "mimetype": "text/x-python",
   "name": "python",
   "nbconvert_exporter": "python",
   "pygments_lexer": "ipython3",
   "version": "3.9.7"
  },
  "orig_nbformat": 4
 },
 "nbformat": 4,
 "nbformat_minor": 2
}
